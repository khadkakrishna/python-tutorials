{
 "cells": [
  {
   "cell_type": "code",
   "execution_count": 2,
   "metadata": {},
   "outputs": [
    {
     "name": "stdout",
     "output_type": "stream",
     "text": [
      "[7, 1, 2, 3, 4, 5]\n",
      "Sorted list:\n",
      "[1, 2, 3, 4, 5, 7]\n",
      "[7, 1, 2, 3, 4, 5]\n",
      "\n",
      "Reverse sorted list:\n",
      "[7, 5, 4, 3, 2, 1]\n",
      "\n",
      "Original list after sorting:\n",
      "[7, 1, 2, 3, 4, 5]\n"
     ]
    }
   ],
   "source": [
    "L = [7,1, 2, 3, 4, 5]\n",
    "\n",
    "print(L)\n",
    "\n",
    "print(\"Sorted list:\")\n",
    "print(sorted(L))\n",
    "\n",
    "print(L)\n",
    "\n",
    "  \n",
    "print(\"\\nReverse sorted list:\")\n",
    "print(sorted(L, reverse = True))\n",
    "  \n",
    "print(\"\\nOriginal list after sorting:\")\n",
    "print(L)"
   ]
  },
  {
   "cell_type": "code",
   "execution_count": 3,
   "metadata": {},
   "outputs": [
    {
     "name": "stdout",
     "output_type": "stream",
     "text": [
      "['e', 'q', 'r', 't', 'w', 'y']\n",
      "['e', 'q', 'r', 't', 'w', 'y']\n",
      "['h', 'n', 'o', 'p', 't', 'y']\n",
      "['e', 'q', 'r', 't', 'w', 'y']\n",
      "['e', 'q', 'r', 't', 'w', 'y']\n"
     ]
    }
   ],
   "source": [
    "x = ['q', 'w', 'r', 'e', 't', 'y'] \n",
    "print(sorted(x)) \n",
    "    \n",
    "# Tuple \n",
    "x = ('q', 'w', 'e', 'r', 't', 'y') \n",
    "print(sorted(x))\n",
    "  \n",
    "# String-sorted based on ASCII translations \n",
    "x = \"python\"\n",
    "print(sorted(x)) \n",
    "    \n",
    "# Dictionary \n",
    "x = {'q':1, 'w':2, 'e':3, 'r':4, 't':5, 'y':6} \n",
    "print(sorted(x)) \n",
    "    \n",
    "# Set \n",
    "x = {'q', 'w', 'e', 'r', 't', 'y'} \n",
    "print(sorted(x))"
   ]
  },
  {
   "cell_type": "code",
   "execution_count": null,
   "metadata": {},
   "outputs": [],
   "source": []
  }
 ],
 "metadata": {
  "interpreter": {
   "hash": "aee8b7b246df8f9039afb4144a1f6fd8d2ca17a180786b69acc140d282b71a49"
  },
  "kernelspec": {
   "display_name": "Python 3.9.4 64-bit",
   "language": "python",
   "name": "python3"
  },
  "language_info": {
   "codemirror_mode": {
    "name": "ipython",
    "version": 3
   },
   "file_extension": ".py",
   "mimetype": "text/x-python",
   "name": "python",
   "nbconvert_exporter": "python",
   "pygments_lexer": "ipython3",
   "version": "3.9.4"
  },
  "orig_nbformat": 4
 },
 "nbformat": 4,
 "nbformat_minor": 2
}
