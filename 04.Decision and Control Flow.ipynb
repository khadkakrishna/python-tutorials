{
 "cells": [
  {
   "cell_type": "markdown",
   "metadata": {},
   "source": [
    "### Table of content:\n",
    "* Decision Statements\n",
    "* Loops \n",
    "* Loop Control Statements\n",
    "* Switch() equivalent\n",
    "* Looping Techniques: enumerate() and zip()\n",
    "* iter() and next(): converting objects into an iterator\n",
    "* Iterators:\n",
    ">* Infinite\n",
    ">* Combinatorics\n",
    ">* Terminating"
   ]
  },
  {
   "cell_type": "markdown",
   "metadata": {},
   "source": [
    "## Decision Statements \n",
    "* if\n",
    "* if else\n",
    "* if elif else ladder\n",
    "* if else Nested"
   ]
  },
  {
   "cell_type": "code",
   "execution_count": 1,
   "metadata": {},
   "outputs": [
    {
     "name": "stdout",
     "output_type": "stream",
     "text": [
      "I am Not in if\n"
     ]
    }
   ],
   "source": [
    "i = 10\n",
    "if (i > 15): \n",
    "   print (\"10 is less than 15\") \n",
    "print (\"I am Not in if\") "
   ]
  },
  {
   "cell_type": "code",
   "execution_count": 2,
   "metadata": {},
   "outputs": [
    {
     "name": "stdout",
     "output_type": "stream",
     "text": [
      "i is greater than 15\n",
      "i'm in else Block\n",
      "i'm not in if and not in else Block\n"
     ]
    }
   ],
   "source": [
    "i = 20; \n",
    "if (i < 15): \n",
    "    print (\"i is smaller than 15\") \n",
    "    print (\"i'm in if Block\") \n",
    "else: \n",
    "    print (\"i is greater than 15\") \n",
    "    print (\"i'm in else Block\") \n",
    "print (\"i'm not in if and not in else Block\") "
   ]
  },
  {
   "cell_type": "code",
   "execution_count": 3,
   "metadata": {},
   "outputs": [
    {
     "name": "stdout",
     "output_type": "stream",
     "text": [
      "i is smaller than 15\n",
      "i is smaller than 12 too\n"
     ]
    }
   ],
   "source": [
    "i = 10\n",
    "if (i == 10): \n",
    "    if (i < 15): \n",
    "        print (\"i is smaller than 15\") \n",
    "    if (i < 12): \n",
    "        print (\"i is smaller than 12 too\") \n",
    "    else: \n",
    "        print (\"i is greater than 15\") "
   ]
  },
  {
   "cell_type": "code",
   "execution_count": 4,
   "metadata": {},
   "outputs": [
    {
     "name": "stdout",
     "output_type": "stream",
     "text": [
      "i is 20\n"
     ]
    }
   ],
   "source": [
    "i = 20\n",
    "if (i == 10): \n",
    "    print (\"i is 10\") \n",
    "elif (i == 15): \n",
    "    print (\"i is 15\") \n",
    "elif (i == 20): \n",
    "    print (\"i is 20\") \n",
    "else: \n",
    "    print (\"i is not present\") "
   ]
  },
  {
   "cell_type": "markdown",
   "metadata": {},
   "source": [
    "## Loops in Python"
   ]
  },
  {
   "cell_type": "markdown",
   "metadata": {},
   "source": [
    "#### while loop\n"
   ]
  },
  {
   "cell_type": "code",
   "execution_count": 11,
   "metadata": {},
   "outputs": [
    {
     "name": "stdout",
     "output_type": "stream",
     "text": [
      "Hello krish\n",
      "Hello krish\n",
      "Hello krish\n"
     ]
    }
   ],
   "source": [
    "count = 0\n",
    "while (count < 3):     \n",
    "    count = count + 1\n",
    "    print(\"Hello krish\") "
   ]
  },
  {
   "cell_type": "markdown",
   "metadata": {},
   "source": [
    "##### Note: else will execute if all the iterations are completed i.e. no break"
   ]
  },
  {
   "cell_type": "code",
   "execution_count": 12,
   "metadata": {},
   "outputs": [
    {
     "name": "stdout",
     "output_type": "stream",
     "text": [
      "Hello krish\n",
      "Hello krish\n",
      "Hello krish\n",
      "In Else Block\n"
     ]
    }
   ],
   "source": [
    "#using else with while loop\n",
    "count = 0\n",
    "while (count < 3):     \n",
    "    count = count + 1\n",
    "    print(\"Hello krish\") \n",
    "else: \n",
    "    print(\"In Else Block\")"
   ]
  },
  {
   "cell_type": "code",
   "execution_count": 13,
   "metadata": {},
   "outputs": [
    {
     "name": "stdout",
     "output_type": "stream",
     "text": [
      "Hello krish\n"
     ]
    }
   ],
   "source": [
    "# Single statement while block \n",
    "count = 0\n",
    "while (count == 0): print(\"Hello krish\"); count+=1"
   ]
  },
  {
   "cell_type": "markdown",
   "metadata": {},
   "source": [
    "#### for loop"
   ]
  },
  {
   "cell_type": "code",
   "execution_count": 8,
   "metadata": {},
   "outputs": [
    {
     "name": "stdout",
     "output_type": "stream",
     "text": [
      "0\n",
      "1\n",
      "2\n",
      "3\n"
     ]
    }
   ],
   "source": [
    "n = 4\n",
    "for i in range(0, n): \n",
    "    print(i) "
   ]
  },
  {
   "cell_type": "code",
   "execution_count": 14,
   "metadata": {},
   "outputs": [
    {
     "name": "stdout",
     "output_type": "stream",
     "text": [
      "aie\n",
      "abc\n",
      "dcd\n"
     ]
    }
   ],
   "source": [
    "list = [\"aie\", \"abc\", \"dcd\"] \n",
    "for index in range(len(list)): \n",
    "    print(list[index])"
   ]
  },
  {
   "cell_type": "code",
   "execution_count": 15,
   "metadata": {},
   "outputs": [
    {
     "name": "stdout",
     "output_type": "stream",
     "text": [
      "aie\n",
      "abc\n",
      "dcd\n",
      "Inside Else Block\n"
     ]
    }
   ],
   "source": [
    "list = [\"aie\", \"abc\", \"dcd\"] \n",
    "for index in range(len(list)): \n",
    "    print(list[index])\n",
    "else: \n",
    "    print(\"Inside Else Block\")"
   ]
  },
  {
   "cell_type": "markdown",
   "metadata": {},
   "source": [
    "## Loop Control Statements"
   ]
  },
  {
   "cell_type": "code",
   "execution_count": 16,
   "metadata": {},
   "outputs": [
    {
     "name": "stdout",
     "output_type": "stream",
     "text": [
      "Current Letter : k\n",
      "Current Letter : r\n",
      "Current Letter : i\n",
      "Current Letter : h\n",
      "Current Letter : n\n",
      "Current Letter : k\n",
      "Current Letter : h\n",
      "Current Letter : d\n",
      "Current Letter : k\n"
     ]
    }
   ],
   "source": [
    "#continue\n",
    "for letter in 'krishnakhadka':  \n",
    "    if letter == 'a' or letter == 's': \n",
    "         continue\n",
    "    print('Current Letter :', letter )\n",
    "    \n"
   ]
  },
  {
   "cell_type": "code",
   "execution_count": 17,
   "metadata": {},
   "outputs": [
    {
     "name": "stdout",
     "output_type": "stream",
     "text": [
      "Current Letter : s\n"
     ]
    }
   ],
   "source": [
    "#break\n",
    "for letter in 'krishnakhadka':  \n",
    "    if letter == 'a' or letter == 's': \n",
    "         break\n",
    "\n",
    "print('Current Letter :', letter)"
   ]
  },
  {
   "cell_type": "code",
   "execution_count": 18,
   "metadata": {},
   "outputs": [
    {
     "name": "stdout",
     "output_type": "stream",
     "text": [
      "Last Letter : a\n"
     ]
    }
   ],
   "source": [
    "#pass\n",
    "for letter in 'krishnakhadka': \n",
    "    pass\n",
    "print('Last Letter :', letter)"
   ]
  },
  {
   "cell_type": "markdown",
   "metadata": {},
   "source": [
    "### switch() equivalent in Python"
   ]
  },
  {
   "cell_type": "code",
   "execution_count": 19,
   "metadata": {},
   "outputs": [
    {
     "data": {
      "text/plain": [
       "'zero'"
      ]
     },
     "execution_count": 19,
     "metadata": {},
     "output_type": "execute_result"
    }
   ],
   "source": [
    "def numbers_to_strings(argument): \n",
    "    switcher = { \n",
    "        0: \"zero\", \n",
    "        1: \"one\", \n",
    "        2: \"two\", \n",
    "    } \n",
    "  \n",
    "    # get() method of dictionary data type returns  \n",
    "    # value of passed argument if it is present  \n",
    "    # in dictionary otherwise second argument will \n",
    "    # be assigned as default value of passed argument \n",
    "    return switcher.get(argument, \"nothing\") \n",
    "  \n",
    "argument=0\n",
    "numbers_to_strings(argument) "
   ]
  },
  {
   "cell_type": "markdown",
   "metadata": {},
   "source": [
    "## Looping techniques:"
   ]
  },
  {
   "cell_type": "markdown",
   "metadata": {},
   "source": [
    "##### Using enumerate():  enumerate() is used to loop through the containers printing the index number along with the value present in that particular index."
   ]
  },
  {
   "cell_type": "code",
   "execution_count": 20,
   "metadata": {},
   "outputs": [
    {
     "name": "stdout",
     "output_type": "stream",
     "text": [
      "0 The\n",
      "1 Big\n",
      "2 Bang\n",
      "3 Theory\n"
     ]
    }
   ],
   "source": [
    "for key, value in enumerate(['The', 'Big', 'Bang', 'Theory']): \n",
    "    print(key, value)  "
   ]
  },
  {
   "cell_type": "code",
   "execution_count": 21,
   "metadata": {
    "scrolled": true
   },
   "outputs": [
    {
     "name": "stdout",
     "output_type": "stream",
     "text": [
      "(0, 'Aston')\n",
      "(1, 'Audi')\n",
      "(2, 'McLaren ')\n",
      "<class 'tuple'>\n"
     ]
    }
   ],
   "source": [
    "cars = [\"Aston\" , \"Audi\", \"McLaren \"] \n",
    "for i in enumerate(cars):\n",
    "    print(i)\n",
    "print(type(i))"
   ]
  },
  {
   "cell_type": "code",
   "execution_count": 22,
   "metadata": {},
   "outputs": [
    {
     "name": "stdout",
     "output_type": "stream",
     "text": [
      "1 Aston\n",
      "2 Audi\n",
      "3 McLaren \n"
     ]
    }
   ],
   "source": [
    "for x in enumerate(cars, start=1): \n",
    "    print (x[0], x[1]) "
   ]
  },
  {
   "cell_type": "code",
   "execution_count": 23,
   "metadata": {},
   "outputs": [
    {
     "name": "stdout",
     "output_type": "stream",
     "text": [
      "Car: Aston Price: 570000$\n",
      "Car: Audi Price: 68000$\n",
      "Car: McLaren Price: 450000$\n",
      "Accessory: GPS kit Price: 8900$\n",
      "Accessory: Car repair-tool kit Price: 4500$\n"
     ]
    }
   ],
   "source": [
    "cars = [\"Aston\", \"Audi\", \"McLaren\"] \n",
    "accessories = [\"GPS kit\", \"Car repair-tool kit\"]  \n",
    "prices = {1:\"570000$\", 2:\"68000$\", 3:\"450000$\", 4:\"8900$\", 5:\"4500$\"} \n",
    "  \n",
    "for index, c in enumerate(cars, start=1): \n",
    "    print(\"Car: %s Price: %s\"%(c, prices[index]))\n",
    "\n",
    "for index, a in enumerate(accessories,start=1): \n",
    "    print(\"Accessory: %s Price: %s\"%(a,prices[index+len(cars)])) "
   ]
  },
  {
   "cell_type": "markdown",
   "metadata": {},
   "source": [
    "##### Using zip(): zip() is used to combine 2 similar containers(list-list or dict-dict) printing the values sequentially. The loop exists only till the smaller container ends. "
   ]
  },
  {
   "cell_type": "code",
   "execution_count": 26,
   "metadata": {},
   "outputs": [
    {
     "name": "stdout",
     "output_type": "stream",
     "text": [
      "<class 'zip'>\n",
      "What is your name?  I am apple.\n",
      "What is your colour?  I am red.\n",
      "What is your shape?  I am a circle.\n"
     ]
    }
   ],
   "source": [
    "questions = ['name', 'colour', 'shape'] \n",
    "answers = ['apple', 'red', 'a circle'] \n",
    "print(type(zip(questions, answers)))\n",
    "for question, answer in zip(questions, answers): \n",
    "    print('What is your {0}?  I am {1}.'.format(question, answer)) "
   ]
  },
  {
   "cell_type": "code",
   "execution_count": 27,
   "metadata": {},
   "outputs": [
    {
     "name": "stdout",
     "output_type": "stream",
     "text": [
      "('Aston', 'Audi', 'McLaren')\n",
      "<class 'tuple'>\n",
      "('GPS', 'Car Repair', 'Dolby sound kit')\n"
     ]
    }
   ],
   "source": [
    "# Unzip lists \n",
    "l1,l2 = zip(*[('Aston', 'GPS'),  \n",
    "              ('Audi', 'Car Repair'),  \n",
    "              ('McLaren', 'Dolby sound kit')  \n",
    "           ]) \n",
    "print(l1)\n",
    "print(type(l1)) \n",
    "print(l2) "
   ]
  },
  {
   "cell_type": "code",
   "execution_count": 30,
   "metadata": {},
   "outputs": [
    {
     "data": {
      "text/plain": [
       "(('name', 'colour', 'shape'), ('apple', 'red', 'a circle'))"
      ]
     },
     "execution_count": 30,
     "metadata": {},
     "output_type": "execute_result"
    }
   ],
   "source": [
    "l, m = zip(*zip(questions, answers))\n",
    "l, m"
   ]
  },
  {
   "cell_type": "markdown",
   "metadata": {},
   "source": [
    "### __iter__() and __next__() | Converting an object into an iterator\n",
    "If we call the iterator after all the elements have been iterated, then `StopIterationError` is raised."
   ]
  },
  {
   "cell_type": "code",
   "execution_count": 31,
   "metadata": {},
   "outputs": [
    {
     "name": "stdout",
     "output_type": "stream",
     "text": [
      "11\n",
      "22\n",
      "33\n",
      "44\n",
      "55\n"
     ]
    }
   ],
   "source": [
    "lst = [11, 22, 33, 44, 55] \n",
    "  \n",
    "iter_lst = iter(lst) \n",
    "while True: \n",
    "    try: \n",
    "        print(iter_lst.__next__())  \n",
    "    except: \n",
    "        break"
   ]
  },
  {
   "cell_type": "code",
   "execution_count": 32,
   "metadata": {},
   "outputs": [
    {
     "name": "stdout",
     "output_type": "stream",
     "text": [
      "Cat\n",
      "Bat\n",
      "Sat\n",
      "Mat\n",
      " \n",
      "Throwing 'StopIterationError' I cannot count more.\n"
     ]
    }
   ],
   "source": [
    "listB = ['Cat', 'Bat', 'Sat', 'Mat'] \n",
    "iter_listB = listB.__iter__() \n",
    "  \n",
    "try: \n",
    "    print(iter_listB.__next__()) \n",
    "    print(iter_listB.__next__()) \n",
    "    print(iter_listB.__next__()) \n",
    "    print(iter_listB.__next__()) \n",
    "    print(iter_listB.__next__()) #StopIteration error \n",
    "except: \n",
    "    print(\" \\nThrowing 'StopIterationError'\", \n",
    "                     \"I cannot count more.\") "
   ]
  },
  {
   "cell_type": "markdown",
   "metadata": {},
   "source": [
    "### ITERTOOLS"
   ]
  },
  {
   "cell_type": "markdown",
   "metadata": {},
   "source": [
    "### infinite iterators\n",
    "1. *count(start, step)*: This iterator starts printing from the “start” number and prints infinitely. If steps are mentioned, the numbers are skipped else step is 1 by default. See the below example for its use with for in loop.\n",
    "2. cycle(iterable): This iterator prints all values in order from the passed container. It restarts printing from the beginning again when all elements are printed in a cyclic manner.\n",
    "3. repeat(val, num): This iterator repeatedly prints the passed value infinite number of times. If the optional keyword num is mentioned, then it repeatedly prints num number of times."
   ]
  },
  {
   "cell_type": "code",
   "execution_count": 33,
   "metadata": {},
   "outputs": [
    {
     "name": "stdout",
     "output_type": "stream",
     "text": [
      "5 10 15 20 25 30 "
     ]
    }
   ],
   "source": [
    "import itertools  \n",
    "    \n",
    "# for in loop  \n",
    "for i in itertools.count(5, 5):  \n",
    "    if i == 35:  \n",
    "        break\n",
    "    else:  \n",
    "        print(i, end =\" \")"
   ]
  },
  {
   "cell_type": "code",
   "execution_count": 35,
   "metadata": {},
   "outputs": [
    {
     "name": "stdout",
     "output_type": "stream",
     "text": [
      "A B A B A B A B "
     ]
    }
   ],
   "source": [
    "count = 0\n",
    "for i in itertools.cycle('AB'):  \n",
    "    if count > 7:  \n",
    "        break\n",
    "    else:  \n",
    "        print(i, end = \" \")  \n",
    "        count += 1"
   ]
  },
  {
   "cell_type": "code",
   "execution_count": 36,
   "metadata": {},
   "outputs": [
    {
     "name": "stdout",
     "output_type": "stream",
     "text": [
      "krish codes python krish codes python "
     ]
    }
   ],
   "source": [
    "l = ['krish', 'codes', 'python']  \n",
    "iterators = itertools.cycle(l)  \n",
    "for i in range(6):   \n",
    "    print(next(iterators), end = \" \")  "
   ]
  },
  {
   "cell_type": "code",
   "execution_count": 37,
   "metadata": {},
   "outputs": [
    {
     "name": "stdout",
     "output_type": "stream",
     "text": [
      "Printing the numbers repeatedly : \n",
      "25\n",
      "25\n",
      "25\n",
      "25\n"
     ]
    }
   ],
   "source": [
    "import itertools   \n",
    "      \n",
    "# using repeat() to repeatedly print number   \n",
    "print (\"Printing the numbers repeatedly : \")   \n",
    "for x in itertools.repeat(25, 4):\n",
    "    print(x)"
   ]
  },
  {
   "cell_type": "markdown",
   "metadata": {},
   "source": [
    "### Combinatorics Iterators\n",
    "1. Product(): This tool computes the cartesian product of input iterables. To compute the product of an iterable with itself, we use the optional repeat keyword argument to specify the number of repetitions. The output of this function are tuples in sorted order.\n",
    "2. Permutations(): Permutations() as the name speaks for itself is used to generate all possible permutations of an iterable. All elements are treated as unique based on their position and not their values. This function takes an iterable and group_size, if the value of group_size is not specified or is equal to None then the value of group_size becomes length of the iterable.\n",
    "3. Combinations(): This iterator prints all the possible combinations(without replacement) of the container passed in arguments in the specified group size in sorted order.\n",
    "4. Combinations_with_replacement(): This function returns a subsequence of length n from the elements of the iterable where n is the argument that the function takes determining the length of the subsequences generated by the function. Individual elements may repeat itself in combinations_with_replacement function."
   ]
  },
  {
   "cell_type": "code",
   "execution_count": 41,
   "metadata": {},
   "outputs": [
    {
     "name": "stdout",
     "output_type": "stream",
     "text": [
      "The cartesian product using repeat:\n",
      "[(1, 1), (1, 2), (2, 1), (2, 2)]\n",
      "\n",
      "The cartesian product of the containers:\n",
      "[('krishna', '2'), ('khadka', '2')]\n",
      "\n",
      "The cartesian product of the containers:\n",
      "[('A', 3), ('A', 4), ('B', 3), ('B', 4)]\n"
     ]
    }
   ],
   "source": [
    "from itertools import product  \n",
    "    \n",
    "print(\"The cartesian product using repeat:\")  \n",
    "print([ x for x in product([1, 2], repeat = 2)])  \n",
    "print()  \n",
    "    \n",
    "print(\"The cartesian product of the containers:\")  \n",
    "print([ x for x in product(['krishna', 'khadka'], '2')])\n",
    "print()  \n",
    "    \n",
    "print(\"The cartesian product of the containers:\")  \n",
    "print([ x for x in product('AB', [3, 4])])"
   ]
  },
  {
   "cell_type": "code",
   "execution_count": 42,
   "metadata": {},
   "outputs": [
    {
     "name": "stdout",
     "output_type": "stream",
     "text": [
      "All the permutations of the given list is:\n",
      "[(1, 'geeks'), ('geeks', 1)]\n",
      "\n",
      "All the permutations of the given string is:\n",
      "[('A', 'B'), ('B', 'A')]\n",
      "\n",
      "All the permutations of the given container is:\n",
      "[(0, 1), (0, 2), (1, 0), (1, 2), (2, 0), (2, 1)]\n"
     ]
    }
   ],
   "source": [
    "from itertools import permutations  \n",
    "    \n",
    "print (\"All the permutations of the given list is:\")   \n",
    "print ([ x for x in permutations([1, 'geeks'], 2)])  \n",
    "print()  \n",
    "print (\"All the permutations of the given string is:\")   \n",
    "print ([ x for x in permutations('AB')])  \n",
    "print()  \n",
    "    \n",
    "print (\"All the permutations of the given container is:\")   \n",
    "print([ x for x in permutations(range(3), 2)])  "
   ]
  },
  {
   "cell_type": "code",
   "execution_count": 43,
   "metadata": {},
   "outputs": [
    {
     "name": "stdout",
     "output_type": "stream",
     "text": [
      "All the combination of list in sorted order(without replacement) is:\n",
      "[('A', 2)]\n",
      "\n",
      "All the combination of string in sorted order(without replacement) is:\n",
      "[('A', 'B')]\n",
      "\n",
      "All the combination of list in sorted order(without replacement) is:\n",
      "[(0,), (1,), (2,), (3,)]\n"
     ]
    }
   ],
   "source": [
    "from itertools import combinations  \n",
    "    \n",
    "print (\"All the combination of list in sorted order(without replacement) is:\")   \n",
    "print([ x for x in combinations(['A', 2], 2)])  \n",
    "print()  \n",
    "    \n",
    "print (\"All the combination of string in sorted order(without replacement) is:\")  \n",
    "print([ x for x in combinations('AB', 2)])  \n",
    "print()  \n",
    "    \n",
    "print (\"All the combination of list in sorted order(without replacement) is:\")  \n",
    "print([ x for x in combinations(range(4), 1)]) "
   ]
  },
  {
   "cell_type": "code",
   "execution_count": 44,
   "metadata": {},
   "outputs": [
    {
     "name": "stdout",
     "output_type": "stream",
     "text": [
      "All the combination of string in sorted order(with replacement) is:\n",
      "[('A', 'A'), ('A', 'B'), ('B', 'B')]\n",
      "\n",
      "All the combination of list in sorted order(with replacement) is:\n",
      "[(1, 1), (1, 2), (2, 2)]\n",
      "\n",
      "All the combination of container in sorted order(with replacement) is:\n",
      "[(0,), (1,)]\n"
     ]
    }
   ],
   "source": [
    "from itertools import combinations_with_replacement  \n",
    "    \n",
    "print (\"All the combination of string in sorted order(with replacement) is:\")  \n",
    "print([ x for x in combinations_with_replacement(\"AB\", 2)])  \n",
    "print()  \n",
    "    \n",
    "print (\"All the combination of list in sorted order(with replacement) is:\")  \n",
    "print([ x for x in combinations_with_replacement([1, 2], 2)])  \n",
    "print()  \n",
    "    \n",
    "print (\"All the combination of container in sorted order(with replacement) is:\")  \n",
    "print([ x for x in combinations_with_replacement(range(2), 1)])"
   ]
  },
  {
   "cell_type": "markdown",
   "metadata": {},
   "source": [
    "### Terminating Iterators\n",
    "1. accumulate(iter, func): This iterator takes two arguments, iterable target and the function which would be followed at each iteration of value in target. If no function is passed, addition takes place by default. If the input iterable is empty, the output iterable will also be empty.\n",
    "2. chain(iter1, iter2..): This function is used to print all the values in iterable targets one after another mentioned in its arguments.\n",
    "3. chain.from_iterable(): This function is implemented similarly as chain() but the argument here is a list of lists or any other iterable container.\n",
    "4. compress(iter, selector): This iterator selectively picks the values to print from the passed container according to the boolean list value passed as other arguments. The arguments corresponding to boolean true are printed else all are skipped.\n",
    "5. dropwhile(func, seq): This iterator starts printing the characters only after the func. in argument returns false for the first time.\n",
    "6. filterfalse(func, seq): As the name suggests, this iterator prints only values that return false for the passed function.\n",
    "7. islice(iterable, start, stop, step): This iterator selectively prints the values mentioned in its iterable container passed as argument. This iterator takes 4 arguments, iterable container, starting pos., ending position and step.\n",
    "8. starmap(func., tuple list): This iterator takes a function and tuple list as argument and returns the value according to the function from each tuple of list.\n",
    "9. takewhile(func, iterable): This iterator is opposite of dropwhile(), it prints the values till the function returns false for 1st time.\n",
    "10. tee(iterator, count):- This iterator splits the container into a number of iterators mentioned in the argument.\n",
    "11. zip_longest( iterable1, iterable2, fillval): This iterator prints the values of iterables alternatively in sequence. If one of the iterables is printed fully, remaining values are filled by the values assigned to fillvalue."
   ]
  },
  {
   "cell_type": "code",
   "execution_count": 45,
   "metadata": {},
   "outputs": [
    {
     "name": "stdout",
     "output_type": "stream",
     "text": [
      "The sum after each iteration is : [1, 5, 10, 17]\n",
      "The product after each iteration is : [1, 4, 20, 140]\n"
     ]
    }
   ],
   "source": [
    "import itertools  \n",
    "import operator  \n",
    "  \n",
    "# initializing list 1  \n",
    "li1 = [1, 4, 5, 7]  \n",
    "    \n",
    "# using accumulate()  \n",
    "# prints the successive summation of elements  \n",
    "print (\"The sum after each iteration is : \", end =\"\")  \n",
    "print ([ x for x in itertools.accumulate(li1)])  \n",
    "    \n",
    "# using accumulate()  \n",
    "# prints the successive multiplication of elements  \n",
    "print (\"The product after each iteration is : \", end =\"\")  \n",
    "print ([ x for x in itertools.accumulate(li1, operator.mul)])  "
   ]
  },
  {
   "cell_type": "code",
   "execution_count": 46,
   "metadata": {},
   "outputs": [
    {
     "name": "stdout",
     "output_type": "stream",
     "text": [
      "All values in mentioned chain are : [1, 4, 5, 7, 1, 6, 5, 9, 8, 10, 5, 4]\n"
     ]
    }
   ],
   "source": [
    "import itertools \n",
    "  \n",
    "# initializing list 1  \n",
    "li1 = [1, 4, 5, 7]  \n",
    "    \n",
    "# initializing list 2  \n",
    "li2 = [1, 6, 5, 9]  \n",
    "    \n",
    "# initializing list 3  \n",
    "li3 = [8, 10, 5, 4] \n",
    "  \n",
    "# using chain() to print all elements of lists  \n",
    "print (\"All values in mentioned chain are : \", end =\"\")  \n",
    "print ([ x for x in itertools.chain(li1, li2, li3)]) "
   ]
  },
  {
   "cell_type": "code",
   "execution_count": 47,
   "metadata": {},
   "outputs": [
    {
     "name": "stdout",
     "output_type": "stream",
     "text": [
      "All values in mentioned chain are : [1, 4, 5, 7, 1, 6, 5, 9, 8, 10, 5, 4]\n"
     ]
    }
   ],
   "source": [
    "# initializing list 1  \n",
    "li1 = [1, 4, 5, 7]  \n",
    "    \n",
    "# initializing list 2  \n",
    "li2 = [1, 6, 5, 9]  \n",
    "    \n",
    "# initializing list 3  \n",
    "li3 = [8, 10, 5, 4]  \n",
    "    \n",
    "# intializing list of list  \n",
    "li4 = [li1, li2, li3]  \n",
    "  \n",
    "# using chain.from_iterable() to print all elements of lists  \n",
    "print (\"All values in mentioned chain are : \", end =\"\")  \n",
    "print ([ x for x in itertools.chain.from_iterable(li4)]) "
   ]
  },
  {
   "cell_type": "code",
   "execution_count": 53,
   "metadata": {},
   "outputs": [
    {
     "name": "stdout",
     "output_type": "stream",
     "text": [
      "The compressed values in string are : ['K', 'N', 'H']\n"
     ]
    }
   ],
   "source": [
    "print (\"The compressed values in string are : \", end =\"\")  \n",
    "print ([ x for x in itertools.compress('KRISHNAKHADKA', [1, 0, 0, 0, 0, 1, 0, 0, 1, 0, 0, 0, 0])]) "
   ]
  },
  {
   "cell_type": "code",
   "execution_count": 54,
   "metadata": {},
   "outputs": [
    {
     "name": "stdout",
     "output_type": "stream",
     "text": [
      "The values after condition returns false : [5, 7, 8]\n"
     ]
    }
   ],
   "source": [
    "li = [2, 4, 5, 7, 8]  \n",
    "    \n",
    "# using dropwhile() to start displaying after condition is false  \n",
    "print (\"The values after condition returns false : \", end =\"\")  \n",
    "print ([ x for x in itertools.dropwhile(lambda x : x % 2 == 0, li)])  "
   ]
  },
  {
   "cell_type": "code",
   "execution_count": 55,
   "metadata": {},
   "outputs": [
    {
     "name": "stdout",
     "output_type": "stream",
     "text": [
      "The values that return false to function are : [5, 7]\n"
     ]
    }
   ],
   "source": [
    "li = [2, 4, 5, 7, 8] \n",
    "  \n",
    "# using filterfalse() to print false values  \n",
    "print (\"The values that return false to function are : \", end =\"\")  \n",
    "print ([ x for x in itertools.filterfalse(lambda x : x % 2 == 0, li)]) "
   ]
  },
  {
   "cell_type": "code",
   "execution_count": 56,
   "metadata": {},
   "outputs": [
    {
     "name": "stdout",
     "output_type": "stream",
     "text": [
      "The sliced list values are : [4, 7, 10]\n"
     ]
    }
   ],
   "source": [
    "li = [2, 4, 5, 7, 8, 10, 20]  \n",
    "      \n",
    "# using islice() to slice the list acc. to need  \n",
    "# starts printing from 2nd index till 6th skipping 2  \n",
    "print (\"The sliced list values are : \", end =\"\")  \n",
    "print ([ x for x in itertools.islice(li, 1, 6, 2)]) "
   ]
  },
  {
   "cell_type": "code",
   "execution_count": 57,
   "metadata": {},
   "outputs": [
    {
     "name": "stdout",
     "output_type": "stream",
     "text": [
      "The values acc. to function are : [1, 1, 4, 1]\n"
     ]
    }
   ],
   "source": [
    "li = [ (1, 10, 5), (8, 4, 1), (5, 4, 9), (11, 10, 1) ]  \n",
    "    \n",
    "# using starmap() for selection value acc. to function  \n",
    "# selects min of all tuple values  \n",
    "print (\"The values acc. to function are : \", end =\"\")  \n",
    "print ([ x for x in itertools.starmap(min, li)])  "
   ]
  },
  {
   "cell_type": "code",
   "execution_count": 58,
   "metadata": {},
   "outputs": [
    {
     "name": "stdout",
     "output_type": "stream",
     "text": [
      "The list values till 1st false value are : [2, 4, 6]\n"
     ]
    }
   ],
   "source": [
    "li = [2, 4, 6, 7, 8, 10, 20]  \n",
    "    \n",
    "# using takewhile() to print values till condition is false.  \n",
    "print (\"The list values till 1st false value are : \", end =\"\")  \n",
    "print ([ x for x in itertools.takewhile(lambda x : x % 2 == 0, li )])"
   ]
  },
  {
   "cell_type": "code",
   "execution_count": 59,
   "metadata": {},
   "outputs": [
    {
     "name": "stdout",
     "output_type": "stream",
     "text": [
      "The iterators are : \n",
      "[2, 4, 6, 7, 8, 10, 20]\n",
      "[2, 4, 6, 7, 8, 10, 20]\n",
      "[2, 4, 6, 7, 8, 10, 20]\n"
     ]
    }
   ],
   "source": [
    "li = [2, 4, 6, 7, 8, 10, 20]  \n",
    "    \n",
    "# storing list in iterator  \n",
    "iti = iter(li)   \n",
    "    \n",
    "# using tee() to make a list of iterators  \n",
    "# makes list of 3 iterators having same values.  \n",
    "it = itertools.tee(iti, 3)  \n",
    "    \n",
    "# printing the values of iterators  \n",
    "print (\"The iterators are : \")  \n",
    "for i in range (0, 3):  \n",
    "    print ([ x for x in it[i]])  "
   ]
  },
  {
   "cell_type": "code",
   "execution_count": 60,
   "metadata": {},
   "outputs": [
    {
     "name": "stdout",
     "output_type": "stream",
     "text": [
      "The combined values of iterables is  : \n",
      "('k', 'r') ('i', 's') ('h', 'n') ('a', 'k') ('h', 'a') ('d', 'k') ('a', '_')\n"
     ]
    }
   ],
   "source": [
    "# using zip_longest() to combine two iterables.  \n",
    "print (\"The combined values of iterables is  : \")  \n",
    "print (*(itertools.zip_longest('kihahda', 'rsnkak', fillvalue ='_' )))"
   ]
  },
  {
   "cell_type": "code",
   "execution_count": null,
   "metadata": {},
   "outputs": [],
   "source": []
  }
 ],
 "metadata": {
  "kernelspec": {
   "display_name": "Python 3 (ipykernel)",
   "language": "python",
   "name": "python3"
  },
  "language_info": {
   "codemirror_mode": {
    "name": "ipython",
    "version": 3
   },
   "file_extension": ".py",
   "mimetype": "text/x-python",
   "name": "python",
   "nbconvert_exporter": "python",
   "pygments_lexer": "ipython3",
   "version": "3.11.4"
  }
 },
 "nbformat": 4,
 "nbformat_minor": 4
}
