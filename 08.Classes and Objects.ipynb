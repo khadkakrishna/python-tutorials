{
 "cells": [
  {
   "cell_type": "markdown",
   "metadata": {},
   "source": [
    "### Object Oriented Programming\n",
    "1. Basics of OOPS\n",
    "2. Object oriented programming vs procedural programming\n",
    "3. Object, class and creating instance of a class\n",
    "4. data hiding i.e. abstraction(__name) and object printing(__str__ and __repr__)\n",
    "5. difference between str() and repr() methods\n",
    "6. Constructors and destructors\n",
    "7. In-built class functions and attributes\n",
    "8. Inheritance(Types)\n",
    "9. Methods used in inheritance issubclss() and isinstance()\n",
    "10. Using parent class constructor in derived class\n",
    "11. Method overridding\n",
    "12. Polymorphism : Method overloading and overriding\n",
    "\n",
    "\n",
    "#### Object\n",
    "The object is an entity that has state and behaviour, Everything in Python is an object, and almost everything has attributes and methods. All functions have a built-in attribute __doc__, which returns the doc string defined in the function source code.\n",
    "\n",
    "#### Class\n",
    "The class can be defined as a collection of objects. It is a logical entity that has some specific attributes and methods.\n",
    "\n",
    "#### Method\n",
    "The method is a function that is associated with an object. In Python, a method is not unique to class instances. Any object type can have methods.\n",
    "\n",
    "#### attribute\n",
    "Attributes are the variables that belong to class.\n",
    "Attributes are always public and can be accessed using dot (.) operator. Eg.: Myclass.Myattribute\n",
    "\n",
    "### Inheritance\n",
    "> Inheritance is the most important aspect of object-oriented programming which simulates the real world concept of inheritance. It specifies that the child object acquires all the properties and behaviors of the parent object. By using inheritance, we can create a class which uses all the properties and behavior of another class.The new class is known as a derived class or child class, \n",
    "and the one whose properties are acquired is known as a base class or parent class. It provides re-usability of the code.\n",
    "\n",
    "### Polymorphism\n",
    "> Polymorphism contains two words \"poly\" and \"morphs\".Poly means many and Morphs means form, shape. By polymorphism, we understand that one task can be performed in different ways. For example You have a class animal, and all animals speak. But they speak differently. Here, the \"speak\" behavior is polymorphic in the sense and depends on the animal. So, the abstract \"animal\" concept does not actually \"speak\", but specific animals (like dogs and cats) have a concrete implementation of the action \"speak\".\n",
    "\n",
    "### Encapsulation\n",
    "> Encapsulation is also an important aspect of object-oriented programming. It is used to restrict access to methods and variables. In encapsulation, code and data are wrapped together within a single unit from being modified by accident.\n",
    "\n",
    "### Data Abstraction\n",
    "> Data abstraction and encapsulation both are often used as synonyms. Both are nearly synonym because data abstraction is achieved through encapsulation. Abstraction is used to hide internal details and show only functionalities. Abstracting something means to give names to things so that the name captures the core of what a function or a whole program does."
   ]
  },
  {
   "cell_type": "code",
   "execution_count": 1,
   "metadata": {},
   "outputs": [
    {
     "name": "stdout",
     "output_type": "stream",
     "text": [
      "Hello\n"
     ]
    }
   ],
   "source": [
    "# Object, class and creating instance of a class\n",
    "class Test:   \n",
    "    # A sample method  \n",
    "    def fun(self): \n",
    "        print(\"Hello\") \n",
    "# Driver code \n",
    "obj = Test() \n",
    "obj.fun() "
   ]
  },
  {
   "cell_type": "markdown",
   "metadata": {},
   "source": [
    "### Self argument\n",
    "1. Class methods must have an extra first parameter in method definition. We do not give a value for this parameter when we call the method, Python provides it\n",
    "2. If we have a method which takes no arguments, then we still have to have one argument – the self. See fun() in above simple example.\n",
    "3. This is similar to this pointer in C++ and this reference in Java.\n",
    "\n",
    "### _ _ init _ _ method\n",
    "The _ _ init _ _ method is similar to constructors in C++ and Java. It is run as soon as an object of a class is instantiated. The method is useful to do any initialization you want to do with your object"
   ]
  },
  {
   "cell_type": "code",
   "execution_count": 2,
   "metadata": {},
   "outputs": [
    {
     "name": "stdout",
     "output_type": "stream",
     "text": [
      "Hello, my name is Shwetanshu\n"
     ]
    }
   ],
   "source": [
    "class Person: \n",
    "    # init method or constructor  \n",
    "    def __init__(self, name): \n",
    "        self.name = name \n",
    "    # Sample Method  \n",
    "    def say_hi(self): \n",
    "        print('Hello, my name is', self.name) \n",
    "  \n",
    "p = Person('Shwetanshu') \n",
    "p.say_hi() "
   ]
  },
  {
   "cell_type": "code",
   "execution_count": 3,
   "metadata": {},
   "outputs": [
    {
     "name": "stdout",
     "output_type": "stream",
     "text": [
      "Hello, my name is Shwetanshu\n"
     ]
    }
   ],
   "source": [
    "class Person: \n",
    "    msg='Hello, my name is'\n",
    "    # init method or constructor  \n",
    "    def __init__(self, name): \n",
    "        self.name = name  \n",
    "    # Sample Method  \n",
    "    def say_hi(self): \n",
    "        print(self.msg, self.name) \n",
    "p = Person('Shwetanshu') \n",
    "p.say_hi() "
   ]
  },
  {
   "cell_type": "code",
   "execution_count": 55,
   "metadata": {},
   "outputs": [
    {
     "name": "stdout",
     "output_type": "stream",
     "text": [
      "Address of self =  140629958766656\n",
      "Address of class object =  140629958766656\n"
     ]
    }
   ],
   "source": [
    "#Self is always pointing to Current Object.\n",
    "class check:\n",
    "    def __init__(self):\n",
    "        print(\"Address of self = \",id(self))\n",
    " \n",
    "obj = check()\n",
    "print(\"Address of class object = \",id(obj))"
   ]
  },
  {
   "cell_type": "code",
   "execution_count": 57,
   "metadata": {},
   "outputs": [
    {
     "name": "stdout",
     "output_type": "stream",
     "text": [
      "Model is audi a4\n",
      "color is blue\n",
      "Model is audi a4\n",
      "color is blue\n"
     ]
    }
   ],
   "source": [
    "class car():\n",
    "     \n",
    "    # init method or constructor\n",
    "    def __init__(self, model, color):\n",
    "        self.model = model\n",
    "        self.color = color\n",
    "         \n",
    "    def show(self):\n",
    "        print(\"Model is\", self.model )\n",
    "        print(\"color is\", self.color )\n",
    "         \n",
    "# both objects have different self which\n",
    "# contain their attributes\n",
    "audi = car(\"audi a4\", \"blue\")\n",
    "ferrari = car(\"ferrari 488\", \"green\")\n",
    " \n",
    "audi.show() \n",
    "car.show(audi)"
   ]
  },
  {
   "cell_type": "code",
   "execution_count": 77,
   "metadata": {},
   "outputs": [
    {
     "ename": "TypeError",
     "evalue": "__init__() takes 0 positional arguments but 1 was given",
     "output_type": "error",
     "traceback": [
      "\u001b[0;31m---------------------------------------------------------------------------\u001b[0m",
      "\u001b[0;31mTypeError\u001b[0m                                 Traceback (most recent call last)",
      "\u001b[0;32m/var/folders/5j/t70djgs95l7gn8q6j9t46l8c0000gn/T/ipykernel_77474/4002178124.py\u001b[0m in \u001b[0;36m<module>\u001b[0;34m\u001b[0m\n\u001b[1;32m      4\u001b[0m         \u001b[0mprint\u001b[0m\u001b[0;34m(\u001b[0m\u001b[0;34m\"This is Constructor\"\u001b[0m\u001b[0;34m)\u001b[0m\u001b[0;34m\u001b[0m\u001b[0;34m\u001b[0m\u001b[0m\n\u001b[1;32m      5\u001b[0m \u001b[0;34m\u001b[0m\u001b[0m\n\u001b[0;32m----> 6\u001b[0;31m \u001b[0mobj\u001b[0m \u001b[0;34m=\u001b[0m \u001b[0mcheck\u001b[0m\u001b[0;34m(\u001b[0m\u001b[0;34m)\u001b[0m\u001b[0;34m\u001b[0m\u001b[0;34m\u001b[0m\u001b[0m\n\u001b[0m\u001b[1;32m      7\u001b[0m \u001b[0mprint\u001b[0m\u001b[0;34m(\u001b[0m\u001b[0;34m\"Worked fine\"\u001b[0m\u001b[0;34m)\u001b[0m\u001b[0;34m\u001b[0m\u001b[0;34m\u001b[0m\u001b[0m\n",
      "\u001b[0;31mTypeError\u001b[0m: __init__() takes 0 positional arguments but 1 was given"
     ]
    }
   ],
   "source": [
    "# Self is always required as the first argument\n",
    "class check:\n",
    "    def __init__():\n",
    "        print(\"This is Constructor\")\n",
    " \n",
    "obj = check()\n",
    "print(\"Worked fine\")"
   ]
  },
  {
   "cell_type": "code",
   "execution_count": 78,
   "metadata": {},
   "outputs": [
    {
     "name": "stdout",
     "output_type": "stream",
     "text": [
      "we have used another parameter name in place of self\n"
     ]
    }
   ],
   "source": [
    "#self is parameter in Instance Method and user can use another parameter name in place of it\n",
    "class this_is_class:\n",
    "    def __init__(in_place_of_self):\n",
    "        print(\"we have used another \"\n",
    "        \"parameter name in place of self\")\n",
    "         \n",
    "obj = this_is_class()"
   ]
  },
  {
   "cell_type": "markdown",
   "metadata": {},
   "source": [
    "#### Class and Instance Variables (Or attributes)\n",
    "In Python, instance variables are variables whose value is assigned inside a constructor or method with self."
   ]
  },
  {
   "cell_type": "code",
   "execution_count": 4,
   "metadata": {},
   "outputs": [
    {
     "name": "stdout",
     "output_type": "stream",
     "text": [
      "cse\n",
      "cse\n",
      "101\n",
      "cse\n"
     ]
    }
   ],
   "source": [
    "# Python program to show that the variables with a value  assigned in class declaration, are class variables and \n",
    "# variables inside methods and constructors are instance variables. \n",
    "    \n",
    "class CSStudent: \n",
    "    # Class Variable \n",
    "    stream = 'cse' \n",
    "    \n",
    "    def __init__(self, roll): \n",
    "        # Instance Variable     \n",
    "        self.roll = roll        \n",
    "        \n",
    "a = CSStudent(101) \n",
    "b = CSStudent(102) \n",
    "   \n",
    "print(a.stream)  \n",
    "print(b.stream) \n",
    "print(a.roll) \n",
    "# Class variables can be accessed using class name also \n",
    "print(CSStudent.stream) "
   ]
  },
  {
   "cell_type": "code",
   "execution_count": 5,
   "metadata": {},
   "outputs": [
    {
     "name": "stdout",
     "output_type": "stream",
     "text": [
      "Chandigarh, UT\n"
     ]
    }
   ],
   "source": [
    "#Python program to show that we can create  instance variables inside methods \n",
    "class CSStudent: \n",
    "    stream = 'cse'      \n",
    "    def __init__(self, roll): \n",
    "        # Instance Variable \n",
    "        self.roll = roll             \n",
    "  \n",
    "    # Adds an instance variable  \n",
    "    def setAddress(self, address): \n",
    "        self.address = address \n",
    "      \n",
    "    # Retrieves instance variable     \n",
    "    def getAddress(self):     \n",
    "        return self.address    \n",
    "    \n",
    "a = CSStudent(101) \n",
    "a.setAddress(\"Chandigarh, UT\") \n",
    "print(a.getAddress())"
   ]
  },
  {
   "cell_type": "code",
   "execution_count": 6,
   "metadata": {},
   "outputs": [],
   "source": [
    "# An empty class \n",
    "class Test: \n",
    "    pass"
   ]
  },
  {
   "cell_type": "markdown",
   "metadata": {},
   "source": [
    "### data hiding (Abstraction) and Object Printing\n",
    "Data hiding\n",
    ">In Python, we use double underscore (Or __) before the attributes name and those attributes will not be directly visible outside.\n",
    "\n",
    "Printing Objects\n",
    "> Printing objects gives us information about objects we are working with. In C++, we can do this by adding a friend ostream& operator << (ostream&, const Foobar&) method for the class. In Java, we use toString() method. In python this can be achieved by using __repr__ or _ _ str _ _ methods."
   ]
  },
  {
   "cell_type": "code",
   "execution_count": 7,
   "metadata": {},
   "outputs": [
    {
     "name": "stdout",
     "output_type": "stream",
     "text": [
      "2\n",
      "7\n"
     ]
    },
    {
     "ename": "AttributeError",
     "evalue": "'MyClass' object has no attribute '__hiddenVariable'",
     "output_type": "error",
     "traceback": [
      "\u001b[0;31m---------------------------------------------------------------------------\u001b[0m",
      "\u001b[0;31mAttributeError\u001b[0m                            Traceback (most recent call last)",
      "\u001b[0;32m/var/folders/5j/t70djgs95l7gn8q6j9t46l8c0000gn/T/ipykernel_77474/1745830632.py\u001b[0m in \u001b[0;36m<module>\u001b[0;34m\u001b[0m\n\u001b[1;32m     15\u001b[0m \u001b[0;34m\u001b[0m\u001b[0m\n\u001b[1;32m     16\u001b[0m \u001b[0;31m# This line causes error\u001b[0m\u001b[0;34m\u001b[0m\u001b[0;34m\u001b[0m\u001b[0;34m\u001b[0m\u001b[0m\n\u001b[0;32m---> 17\u001b[0;31m \u001b[0mprint\u001b[0m \u001b[0;34m(\u001b[0m\u001b[0mmyObject\u001b[0m\u001b[0;34m.\u001b[0m\u001b[0m__hiddenVariable\u001b[0m\u001b[0;34m)\u001b[0m\u001b[0;34m\u001b[0m\u001b[0;34m\u001b[0m\u001b[0m\n\u001b[0m",
      "\u001b[0;31mAttributeError\u001b[0m: 'MyClass' object has no attribute '__hiddenVariable'"
     ]
    }
   ],
   "source": [
    "class MyClass: \n",
    "  \n",
    "    # Hidden member of MyClass \n",
    "    __hiddenVariable = 0\n",
    "    \n",
    "    # A member method that changes __hiddenVariable  \n",
    "    def add(self, increment): \n",
    "        self.__hiddenVariable += increment \n",
    "        print (self.__hiddenVariable) \n",
    "   \n",
    "# Driver code \n",
    "myObject = MyClass()      \n",
    "myObject.add(2) \n",
    "myObject.add(5) \n",
    "  \n",
    "# This line causes error \n",
    "print (myObject.__hiddenVariable) "
   ]
  },
  {
   "cell_type": "code",
   "execution_count": 8,
   "metadata": {},
   "outputs": [
    {
     "name": "stdout",
     "output_type": "stream",
     "text": [
      "10\n"
     ]
    }
   ],
   "source": [
    "# members can be accessed outside a class \n",
    "class MyClass: \n",
    "  \n",
    "    # Hidden member of MyClass \n",
    "    __hiddenVariable = 10\n",
    "    \n",
    "myObject = MyClass()      \n",
    "print(myObject._MyClass__hiddenVariable) "
   ]
  },
  {
   "cell_type": "code",
   "execution_count": 9,
   "metadata": {},
   "outputs": [
    {
     "name": "stdout",
     "output_type": "stream",
     "text": [
      "2\n",
      "The number of employees 2\n"
     ]
    }
   ],
   "source": [
    "class Employee:  \n",
    "    __count = 0;  \n",
    "    def __init__(self):  \n",
    "        Employee.__count = Employee.__count+1  \n",
    "    def display(self):  \n",
    "        print(\"The number of employees\",Employee.__count)  \n",
    "emp = Employee()  \n",
    "emp2 = Employee()  \n",
    "\n",
    "print(emp._Employee__count)\n",
    "emp.display()  "
   ]
  },
  {
   "cell_type": "code",
   "execution_count": 11,
   "metadata": {},
   "outputs": [
    {
     "name": "stdout",
     "output_type": "stream",
     "text": [
      "From str method of Test: a is 1234 b is 5678\n",
      "[Test a:1234 b:5678]\n"
     ]
    }
   ],
   "source": [
    "class Test: \n",
    "    def __init__(self, a, b): \n",
    "        self.a = a \n",
    "        self.b = b \n",
    "  \n",
    "    def __repr__(self): \n",
    "        return \"Test a:%s b:%s\" % (self.a, self.b) \n",
    "  \n",
    "    def __str__(self): \n",
    "        return \"From str method of Test: a is %s b is %s\" % (self.a, self.b) \n",
    "  \n",
    "# Driver Code         \n",
    "t = Test(1234, 5678) \n",
    "print(t) # This calls __str__() \n",
    "print([t]) # This calls __repr__() "
   ]
  },
  {
   "cell_type": "code",
   "execution_count": 12,
   "metadata": {},
   "outputs": [
    {
     "name": "stdout",
     "output_type": "stream",
     "text": [
      "Test a:1234 b:5678\n"
     ]
    }
   ],
   "source": [
    "#If no __str__ method is defined, print t (or print str(t)) uses __repr__\n",
    "class Test: \n",
    "    def __init__(self, a, b): \n",
    "        self.a = a \n",
    "        self.b = b \n",
    "  \n",
    "    def __repr__(self): \n",
    "        return \"Test a:%s b:%s\" % (self.a, self.b) \n",
    "           \n",
    "t = Test(1234, 5678) \n",
    "print(t)  "
   ]
  },
  {
   "cell_type": "code",
   "execution_count": 15,
   "metadata": {},
   "outputs": [
    {
     "name": "stdout",
     "output_type": "stream",
     "text": [
      "[<__main__.Test object at 0x7fe6f6b15f70>]\n"
     ]
    }
   ],
   "source": [
    "#If no __repr__ method is defined then the default is called instead of __str__.\n",
    "\n",
    "class Test: \n",
    "    def __init__(self, a, b): \n",
    "        self.a = a \n",
    "        self.b = b \n",
    "    def __str__(self): \n",
    "        return \"From str method of Test: a is %s b is %s\" % (self.a, self.b) \n",
    "  \n",
    "# Driver Code         \n",
    "t = Test(1234, 5678) \n",
    "print([t])  "
   ]
  },
  {
   "cell_type": "code",
   "execution_count": 16,
   "metadata": {},
   "outputs": [
    {
     "name": "stdout",
     "output_type": "stream",
     "text": [
      "<__main__.Test object at 0x7fe6f6b15d30>\n"
     ]
    }
   ],
   "source": [
    "#If no __repr__ method is defined then the default is used.\n",
    "class Test: \n",
    "    def __init__(self, a, b): \n",
    "        self.a = a \n",
    "        self.b = b \n",
    "  \n",
    "# Driver Code         \n",
    "t = Test(1234, 5678) \n",
    "print(t)  "
   ]
  },
  {
   "cell_type": "markdown",
   "metadata": {},
   "source": [
    "#### difference between str() and repr() methods\n",
    "if we print string using repr() function then it prints with a pair of quotes and if we calculate a value we get more precise value than str() function.\n",
    "\n",
    "Following are differences:\n",
    "\n",
    "> 1. str() is used for creating output for end user while repr() is mainly used for debugging and development. repr’s goal is to be unambiguous and str’s is to be readable. For example, if we suspect a float has a small rounding error, repr will show us while str may not.\n",
    "\n",
    "> 2. repr() compute the “official” string representation of an object (a representation that has all information about the object) and str() is used to compute the “informal” string representation of an object (a representation that is useful for printing the object).\n",
    "\n",
    "> 3. The print statement and str() built-in function uses __ str __ to display the string representation of the object while the repr() built-in function uses __repr __ to display the object."
   ]
  },
  {
   "cell_type": "code",
   "execution_count": 17,
   "metadata": {},
   "outputs": [
    {
     "name": "stdout",
     "output_type": "stream",
     "text": [
      "Hello, Geeks.\n",
      "0.18181818181818182\n",
      "'Hello, Geeks.'\n",
      "0.18181818181818182\n"
     ]
    }
   ],
   "source": [
    "s = 'Hello, Geeks.'\n",
    "print(str(s))\n",
    "print(str(2.0/11.0))\n",
    "\n",
    "print(repr(s))\n",
    "print(repr(2.0/11.0)) "
   ]
  },
  {
   "cell_type": "code",
   "execution_count": 18,
   "metadata": {},
   "outputs": [
    {
     "name": "stdout",
     "output_type": "stream",
     "text": [
      "2022-01-20 12:27:55.383206\n",
      "datetime.datetime(2022, 1, 20, 12, 27, 55, 383206)\n"
     ]
    }
   ],
   "source": [
    "import datetime \n",
    "today = datetime.datetime.now() \n",
    "  \n",
    "# Prints readable format for date-time object \n",
    "print(str(today))\n",
    "  \n",
    "# prints the official format of date-time object \n",
    "print(repr(today))"
   ]
  },
  {
   "cell_type": "code",
   "execution_count": 19,
   "metadata": {},
   "outputs": [
    {
     "name": "stdout",
     "output_type": "stream",
     "text": [
      "10 + i20\n",
      "Rational(10, 20)\n"
     ]
    }
   ],
   "source": [
    "class Complex: \n",
    "    def __init__(self, real, imag): \n",
    "        self.real = real \n",
    "        self.imag = imag \n",
    "  \n",
    "    # For call to repr(). Prints object's information \n",
    "    def __repr__(self): \n",
    "        return 'Rational(%s, %s)' % (self.real, self.imag)     \n",
    "  \n",
    "    # For call to str(). Prints readable form \n",
    "    def __str__(self): \n",
    "        return '%s + i%s' % (self.real, self.imag)     \n",
    "  \n",
    "t = Complex(10, 20)  \n",
    "print(str(t)) # Same as \"print t\" \n",
    "print(repr(t))"
   ]
  },
  {
   "cell_type": "markdown",
   "metadata": {},
   "source": [
    "### Python Constructor\n",
    "A constructor is a special type of method (function) which is used to initialize the instance members of the class.\n",
    "\n",
    "Constructors can be of two types.\n",
    ">1. default constructor :The default constructor is simple constructor which doesn’t accept any arguments.It’s definition has only one argument which is a reference to the instance being constructed.\n",
    ">2. parameterized constructor :constructor with parameters is known as parameterized constructor.The parameterized constructor take its first argument as a reference to the instance being constructed known as self and the rest of the arguments are provided by the programmer.\n",
    "\n",
    "Constructor definition is executed when we create the object of this class. Constructors also verify that there are enough resources for the object to perform any start-up task.\n",
    "\n",
    "In Python the __ init__() method is called the constructor and is always called when an object is created\n",
    "* This method is called when the class is instantiated. \n",
    "* can pass any number of arguments at the time of creating the class object, depending upon __ init__ definition. \n",
    "* mostly used to initialize the class attributes.Every class must have a constructor,even if it simply relies on the default constructor."
   ]
  },
  {
   "cell_type": "code",
   "execution_count": 20,
   "metadata": {},
   "outputs": [
    {
     "name": "stdout",
     "output_type": "stream",
     "text": [
      "ID: 101 \n",
      "Name: John\n",
      "ID: 102 \n",
      "Name: David\n"
     ]
    }
   ],
   "source": [
    "class Employee:  \n",
    "    def __init__(self,name,id):  \n",
    "        self.id = id;  \n",
    "        self.name = name;  \n",
    "    def display (self):  \n",
    "        print(\"ID: %d \\nName: %s\"%(self.id,self.name))  \n",
    "\n",
    "emp1 = Employee(\"John\",101)  \n",
    "emp2 = Employee(\"David\",102)  \n",
    "emp1.display();   \n",
    "emp2.display();   "
   ]
  },
  {
   "cell_type": "code",
   "execution_count": 21,
   "metadata": {},
   "outputs": [
    {
     "name": "stdout",
     "output_type": "stream",
     "text": [
      "The number of students: 3\n"
     ]
    }
   ],
   "source": [
    "#counting number of objects\n",
    "class Student:  \n",
    "    count = 0  \n",
    "    def __init__(self):  \n",
    "        Student.count = Student.count + 1  \n",
    "s1=Student()  \n",
    "s2=Student()  \n",
    "s3=Student()  \n",
    "print(\"The number of students:\",Student.count)  "
   ]
  },
  {
   "cell_type": "code",
   "execution_count": 24,
   "metadata": {},
   "outputs": [
    {
     "name": "stdout",
     "output_type": "stream",
     "text": [
      "This is non parametrized constructor\n",
      "Hello John\n"
     ]
    }
   ],
   "source": [
    "#default constructor\n",
    "class Student:    \n",
    "    # Constructor - non parameterized    \n",
    "    def __init__(self):    \n",
    "        print(\"This is non parametrized constructor\")    \n",
    "    def show(self,name):    \n",
    "        print(\"Hello\",name)    \n",
    "student = Student()    \n",
    "student.show(\"John\")  "
   ]
  },
  {
   "cell_type": "code",
   "execution_count": 25,
   "metadata": {},
   "outputs": [
    {
     "name": "stdout",
     "output_type": "stream",
     "text": [
      "First number = 1000\n",
      "Second number = 2000\n",
      "Addition of two numbers = 3000\n"
     ]
    }
   ],
   "source": [
    "class Addition: \n",
    "    first = 0\n",
    "    second = 0\n",
    "    answer = 0\n",
    "      \n",
    "    # parameterized constructor \n",
    "    def __init__(self, first, second): \n",
    "        self.first = first\n",
    "        self.second = second\n",
    "      \n",
    "    def display(self): \n",
    "        print(\"First number = \" + str(self.first)) \n",
    "        print(\"Second number = \" + str(self.second)) \n",
    "        self.calculate()\n",
    "        print(\"Addition of two numbers = \" + str(self.answer)) \n",
    "  \n",
    "    def calculate(self): \n",
    "        self.answer = self.first + self.second \n",
    "        \n",
    "obj = Addition(1000, 2000) \n",
    "obj.display()\n"
   ]
  },
  {
   "cell_type": "markdown",
   "metadata": {},
   "source": [
    "### Destructors\n",
    "Destructors are called when an object gets destroyed. In Python, destructors are not needed as much needed in C++ because Python has a garbage collector that handles memory management automatically.\n",
    "\n",
    "The __ del__() method is a known as a destructor method in Python. It is called when all references to the object have been deleted i.e when an object is garbage collected."
   ]
  },
  {
   "cell_type": "code",
   "execution_count": 26,
   "metadata": {},
   "outputs": [
    {
     "name": "stdout",
     "output_type": "stream",
     "text": [
      "Employee created.\n",
      "Destructor called, Employee deleted.\n"
     ]
    }
   ],
   "source": [
    "class Employee: \n",
    "    def __init__(self): \n",
    "        print('Employee created.') \n",
    "  \n",
    "    # Deleting (Calling destructor) \n",
    "    def __del__(self): \n",
    "        print('Destructor called, Employee deleted.') \n",
    "\n",
    "obj = Employee() \n",
    "del obj "
   ]
  },
  {
   "cell_type": "code",
   "execution_count": 27,
   "metadata": {},
   "outputs": [
    {
     "name": "stdout",
     "output_type": "stream",
     "text": [
      "Calling Create_obj() function\n",
      "Making Object\n",
      "Employee created\n",
      "function end\n",
      "Program End\n",
      "Destructor called\n"
     ]
    }
   ],
   "source": [
    "class Employee: \n",
    "    def __init__(self): \n",
    "        print('Employee created') \n",
    "    def __del__(self): \n",
    "        print(\"Destructor called\") \n",
    "\n",
    "def Create_obj(): \n",
    "    print('Making Object') \n",
    "    obj = Employee() \n",
    "    print('function end') \n",
    "    return obj \n",
    "  \n",
    "print('Calling Create_obj() function') \n",
    "obj = Create_obj() \n",
    "print('Program End') \n",
    "del obj"
   ]
  },
  {
   "cell_type": "markdown",
   "metadata": {},
   "source": [
    "### Python in-built class functions\n",
    "1.\tgetattr(obj,name,default)\t: It is used to access the attribute of the object.\n",
    "2.\tsetattr(obj, name,value)\t: It is used to set a particular value to the specific attribute of an object.\n",
    "3.\tdelattr(obj, name)      \t: It is used to delete a specific attribute.\n",
    "4.\thasattr(obj, name)\t        : It returns true if the object contains some specific attribute.\n"
   ]
  },
  {
   "cell_type": "code",
   "execution_count": 30,
   "metadata": {},
   "outputs": [
    {
     "name": "stdout",
     "output_type": "stream",
     "text": [
      "John\n",
      "23\n",
      "True\n",
      "False\n"
     ]
    },
    {
     "ename": "AttributeError",
     "evalue": "'Student' object has no attribute 'age'",
     "output_type": "error",
     "traceback": [
      "\u001b[0;31m---------------------------------------------------------------------------\u001b[0m",
      "\u001b[0;31mAttributeError\u001b[0m                            Traceback (most recent call last)",
      "\u001b[0;32m/var/folders/5j/t70djgs95l7gn8q6j9t46l8c0000gn/T/ipykernel_77474/3523143191.py\u001b[0m in \u001b[0;36m<module>\u001b[0;34m\u001b[0m\n\u001b[1;32m     13\u001b[0m \u001b[0mprint\u001b[0m\u001b[0;34m(\u001b[0m\u001b[0mhasattr\u001b[0m\u001b[0;34m(\u001b[0m\u001b[0ms\u001b[0m\u001b[0;34m,\u001b[0m\u001b[0;34m'age'\u001b[0m\u001b[0;34m)\u001b[0m\u001b[0;34m)\u001b[0m\u001b[0;34m\u001b[0m\u001b[0;34m\u001b[0m\u001b[0m\n\u001b[1;32m     14\u001b[0m \u001b[0;31m# this will give an error since the attribute age has been deleted\u001b[0m\u001b[0;34m\u001b[0m\u001b[0;34m\u001b[0m\u001b[0;34m\u001b[0m\u001b[0m\n\u001b[0;32m---> 15\u001b[0;31m \u001b[0mprint\u001b[0m\u001b[0;34m(\u001b[0m\u001b[0ms\u001b[0m\u001b[0;34m.\u001b[0m\u001b[0mage\u001b[0m\u001b[0;34m)\u001b[0m\u001b[0;34m\u001b[0m\u001b[0;34m\u001b[0m\u001b[0m\n\u001b[0m",
      "\u001b[0;31mAttributeError\u001b[0m: 'Student' object has no attribute 'age'"
     ]
    }
   ],
   "source": [
    "class Student:  \n",
    "    def __init__(self,name,id,age):  \n",
    "        self.name = name;  \n",
    "        self.id = id;  \n",
    "        self.age = age  \n",
    "        \n",
    "s = Student(\"John\",101,22)  \n",
    "print(getattr(s,'name'))   \n",
    "setattr(s,\"age\",23)  \n",
    "print(getattr(s,'age'))  \n",
    "print(hasattr(s,'id'))  \n",
    "delattr(s,'age')  \n",
    "print(hasattr(s,'age'))  \n",
    "# this will give an error since the attribute age has been deleted  \n",
    "print(s.age)  "
   ]
  },
  {
   "cell_type": "markdown",
   "metadata": {},
   "source": [
    "### Python in-built class attributes\n",
    "1.\t__ dict__\t: It provides the dictionary containing the information about the class namespace.\n",
    "2.\t__ doc__  \t: It contains a string which has the class documentation\n",
    "3.\t__ name__\t: It is used to access the class name.\n",
    "4.\t__ module__\t: It is used to access the module in which, this class is defined.\n",
    "5.\t__ bases__\t: It contains a tuple including all base classes.(inheritance)"
   ]
  },
  {
   "cell_type": "code",
   "execution_count": 93,
   "metadata": {},
   "outputs": [
    {
     "name": "stdout",
     "output_type": "stream",
     "text": [
      "{'name': 'John', 'id': 101, 'age': 22}\n",
      " This is some sample doc for the Student class if empty returns None\n",
      "Student\n",
      "__main__\n"
     ]
    }
   ],
   "source": [
    "class Student:  \n",
    "    \"\"\" This is some sample doc for the Student class if empty returns None\"\"\"\n",
    "    def __init__(self,name,id,age):  \n",
    "        self.name = name;  \n",
    "        self.id = id;  \n",
    "        self.age = age  \n",
    "    def display_details(self):  \n",
    "        print(\"Name:%s, ID:%d, age:%d\"%(self.name,self.id))  \n",
    "s = Student(\"John\",101,22)  \n",
    "print(s.__dict__) \n",
    "print(s.__doc__)  \n",
    "print(Student.__name__) #s.__name__ gives error\n",
    "print(s.__module__) "
   ]
  },
  {
   "cell_type": "markdown",
   "metadata": {},
   "source": [
    "### Python Inheritance\n",
    "1. Single inheritance: When a child class inherits from only one parent class, it is called as single inheritance. We saw an example above.\n",
    "2. Multiple inheritance: When a child class inherits from multiple parent classes, it is called as multiple inheritance.\n",
    "3. Multilevel inheritance: When we have child and grand child relationship.\n",
    "4. Hierarchical inheritance: More than one derived classes are created from a single base.\n",
    "5. Hybrid inheritance: This form combines more than one form of inheritance. Basically, it is a blend of more than one type of inheritance."
   ]
  },
  {
   "cell_type": "code",
   "execution_count": 40,
   "metadata": {},
   "outputs": [
    {
     "name": "stdout",
     "output_type": "stream",
     "text": [
      "dog barking\n",
      "Animal Speaking\n"
     ]
    }
   ],
   "source": [
    "#single inheritance\n",
    "class Animal:  \n",
    "    def speak(self):  \n",
    "        print(\"Animal Speaking\")  \n",
    "#child class Dog inherits the base class Animal  \n",
    "class Dog(Animal):  \n",
    "    def bark(self):  \n",
    "        print(\"dog barking\")  \n",
    "d = Dog()  \n",
    "d.bark()  \n",
    "d.speak()  "
   ]
  },
  {
   "cell_type": "code",
   "execution_count": 41,
   "metadata": {},
   "outputs": [
    {
     "name": "stdout",
     "output_type": "stream",
     "text": [
      "dog barking\n",
      "Animal Speaking\n",
      "Eating bread...\n"
     ]
    }
   ],
   "source": [
    "#multi-level inheritance\n",
    "class Animal:  \n",
    "    def speak(self):  \n",
    "        print(\"Animal Speaking\")  \n",
    "#The child class Dog inherits the base class Animal  \n",
    "class Dog(Animal):  \n",
    "    def bark(self):  \n",
    "        print(\"dog barking\")  \n",
    "#The child class Dogchild inherits another child class Dog  \n",
    "class DogChild(Dog):  \n",
    "    def eat(self):  \n",
    "        print(\"Eating bread...\")  \n",
    "d = DogChild()  \n",
    "d.bark()  \n",
    "d.speak()  \n",
    "d.eat()  "
   ]
  },
  {
   "cell_type": "code",
   "execution_count": 42,
   "metadata": {},
   "outputs": [
    {
     "name": "stdout",
     "output_type": "stream",
     "text": [
      "30\n",
      "200\n",
      "0.5\n"
     ]
    }
   ],
   "source": [
    "#multiple inheritance\n",
    "class Calculation1:  \n",
    "    def Summation(self,a,b):  \n",
    "        return a+b;  \n",
    "class Calculation2:  \n",
    "    def Multiplication(self,a,b):  \n",
    "        return a*b;  \n",
    "class Derived(Calculation1,Calculation2):  \n",
    "    def Divide(self,a,b):  \n",
    "        return a/b;  \n",
    "d = Derived()  \n",
    "print(d.Summation(10,20))  \n",
    "print(d.Multiplication(10,20))  \n",
    "print(d.Divide(10,20))  "
   ]
  },
  {
   "cell_type": "markdown",
   "metadata": {},
   "source": [
    "### issubclass(sub,sup) method\n",
    "The issubclass(sub, sup) method is used to check the relationships between the specified classes. It returns true if the first class is the subclass of the second class, and false otherwise.\n",
    "\n",
    "### isinstance (obj, class) method\n",
    "The isinstance() method is used to check the relationship between the objects and classes. It returns true if the first parameter, i.e., obj is the instance of the second parameter, i.e., class."
   ]
  },
  {
   "cell_type": "code",
   "execution_count": 43,
   "metadata": {},
   "outputs": [
    {
     "name": "stdout",
     "output_type": "stream",
     "text": [
      "True\n",
      "False\n",
      "True\n",
      "True\n"
     ]
    }
   ],
   "source": [
    "class Calculation1:  \n",
    "    def Summation(self,a,b):  \n",
    "        return a+b;  \n",
    "class Calculation2:  \n",
    "    def Multiplication(self,a,b):  \n",
    "        return a*b;  \n",
    "class Derived(Calculation1,Calculation2):  \n",
    "    def Divide(self,a,b):  \n",
    "        return a/b;  \n",
    "d = Derived()  \n",
    "print(issubclass(Derived,Calculation2))  \n",
    "print(issubclass(Calculation1,Calculation2))\n",
    "print(isinstance(d,Derived)) \n",
    "print(isinstance(d,Calculation1)) "
   ]
  },
  {
   "cell_type": "markdown",
   "metadata": {},
   "source": [
    "### Method Overriding\n",
    "We can provide some specific implementation of the parent class method in our child class. When the parent class method is defined in the child class with some specific implementation, then the concept is called method overriding. We may need to perform method overriding in the scenario where the different definition of a parent class method is needed in the child class."
   ]
  },
  {
   "cell_type": "code",
   "execution_count": 45,
   "metadata": {},
   "outputs": [
    {
     "name": "stdout",
     "output_type": "stream",
     "text": [
      "Barking\n"
     ]
    }
   ],
   "source": [
    "class Animal:  \n",
    "    def speak(self):  \n",
    "        print(\"Speaking\")  \n",
    "class Dog(Animal):  \n",
    "    def speak(self):  \n",
    "        print(\"Barking\")  \n",
    "d = Dog()  \n",
    "d.speak()  "
   ]
  },
  {
   "cell_type": "code",
   "execution_count": 46,
   "metadata": {},
   "outputs": [
    {
     "name": "stdout",
     "output_type": "stream",
     "text": [
      "Bank Rate of interest: 10\n",
      "SBI Rate of interest: 7\n",
      "ICICI Rate of interest: 8\n"
     ]
    }
   ],
   "source": [
    "class Bank:  \n",
    "    def getroi(self):  \n",
    "        return 10  \n",
    "class SBI(Bank):  \n",
    "    def getroi(self):  \n",
    "        return 7\n",
    "    \n",
    "class ICICI(Bank):  \n",
    "    def getroi(self):  \n",
    "        return 8\n",
    "b1 = Bank()  \n",
    "b2 = SBI()  \n",
    "b3 = ICICI()  \n",
    "print(\"Bank Rate of interest:\",b1.getroi());  \n",
    "print(\"SBI Rate of interest:\",b2.getroi());  \n",
    "print(\"ICICI Rate of interest:\",b3.getroi());  "
   ]
  },
  {
   "cell_type": "code",
   "execution_count": 47,
   "metadata": {},
   "outputs": [
    {
     "name": "stdout",
     "output_type": "stream",
     "text": [
      "Geek1 False\n",
      "Geek2 True\n"
     ]
    }
   ],
   "source": [
    "class Person(object): \n",
    "       \n",
    "    # Constructor \n",
    "    def __init__(self, name): \n",
    "        self.name = name \n",
    "    def getName(self): \n",
    "        return self.name \n",
    "    def isEmployee(self): \n",
    "        return False\n",
    "    \n",
    "# Inherited or Sub class (Note Person in bracket) \n",
    "class Employee(Person): \n",
    "    def isEmployee(self): \n",
    "        return True\n",
    "   \n",
    "# Driver code \n",
    "emp = Person(\"Geek1\")  # An Object of Person \n",
    "print(emp.getName(), emp.isEmployee()) \n",
    "   \n",
    "emp = Employee(\"Geek2\") # An Object of Employee \n",
    "print(emp.getName(), emp.isEmployee()) "
   ]
  },
  {
   "cell_type": "code",
   "execution_count": 48,
   "metadata": {},
   "outputs": [
    {
     "name": "stdout",
     "output_type": "stream",
     "text": [
      "Rahul\n",
      "886012\n",
      "25000.0\n",
      "HR\n"
     ]
    }
   ],
   "source": [
    "# Python code to demonstrate how parent constructors are called. \n",
    "  \n",
    "# parent class \n",
    "class Person( object ):     \n",
    "  \n",
    "        # __init__ is known as the constructor          \n",
    "        def __init__(self, name, idnumber):    \n",
    "                self.name = name \n",
    "                self.idnumber = idnumber \n",
    "        def display(self): \n",
    "                print(self.name) \n",
    "                print(self.idnumber) \n",
    "  \n",
    "# child class \n",
    "class Employee( Person ):            \n",
    "        def __init__(self, name, idnumber, salary, post): \n",
    "                self.salary = salary \n",
    "                self.post = post \n",
    "                # invoking the __init__ of the parent class  \n",
    "                Person.__init__(self, name, idnumber)  \n",
    "                \n",
    "        def display(self): \n",
    "                print(self.name) \n",
    "                print(self.idnumber) \n",
    "                print(self.salary)\n",
    "                print(self.post)\n",
    "  \n",
    "a = Employee('Rahul', 886012,25000.00,\"HR\")      \n",
    "a.display()  "
   ]
  },
  {
   "cell_type": "markdown",
   "metadata": {},
   "source": [
    "### Super keyword\n",
    "In an inherited subclass, a parent class can be referred to with the use of the super() function. The super function returns a temporary object of the superclass that allows access to all of its methods to its child class.\n",
    "\n",
    "* Need not remember or specify the parent class name to access its methods. This function can be used both in single and multiple inheritances.\n",
    "* This implements modularity (isolating changes) and code reusability as there is no need to rewrite the entire function.\n",
    "* Super function in Python is called dynamically because Python is a dynamic language unlike other languages.\n",
    "\n",
    "There are 3 constraints to use the super function:-  \n",
    "\n",
    "* The class and its methods which are referred by the super function\n",
    "* The arguments of the super function and the called function should match.\n",
    "* Every occurrence of the method must include super() after you use it."
   ]
  },
  {
   "cell_type": "code",
   "execution_count": 60,
   "metadata": {},
   "outputs": [
    {
     "name": "stdout",
     "output_type": "stream",
     "text": [
      "It is a mammal.\n",
      "Has legs and tail\n"
     ]
    }
   ],
   "source": [
    "# Python program to demonstrate\n",
    "# super function\n",
    "\n",
    "\n",
    "class Animals:\n",
    "\t\n",
    "\t# Initializing constructor\n",
    "\tdef __init__(self):\n",
    "\t\tself.legs = 4\n",
    "\t\tself.domestic = True\n",
    "\t\tself.tail = True\n",
    "\t\tself.mammals = True\n",
    "\t\n",
    "\tdef isMammal(self):\n",
    "\t\tif self.mammals:\n",
    "\t\t\tprint(\"It is a mammal.\")\n",
    "\t\n",
    "\tdef isDomestic(self):\n",
    "\t\tif self.domestic:\n",
    "\t\t\tprint(\"It is a domestic animal.\")\n",
    "\t\n",
    "class Dogs(Animals):\n",
    "\tdef __init__(self):\n",
    "\t\tsuper().__init__()\n",
    "\n",
    "\tdef isMammal(self):\n",
    "\t\tsuper().isMammal()\n",
    "\n",
    "class Horses(Animals):\n",
    "\tdef __init__(self):\n",
    "\t\tsuper().__init__()\n",
    "\n",
    "\tdef hasTailandLegs(self):\n",
    "\t\tif self.tail and self.legs == 4:\n",
    "\t\t\tprint(\"Has legs and tail\")\n",
    "\n",
    "# Driver code\n",
    "Tom = Dogs()\n",
    "Tom.isMammal()\n",
    "Bruno = Horses()\n",
    "Bruno.hasTailandLegs()\n"
   ]
  },
  {
   "cell_type": "code",
   "execution_count": 94,
   "metadata": {},
   "outputs": [
    {
     "name": "stdout",
     "output_type": "stream",
     "text": [
      "Dog cannot fly\n",
      "Dog cannot swim\n",
      "Dog Is a mammal\n",
      "Done from swim\n",
      "Done from Fly\n"
     ]
    }
   ],
   "source": [
    "class Mammal():\n",
    "\tdef __init__(self, name):\n",
    "\t\tprint(name, \"Is a mammal\")\n",
    "\t\t\n",
    "class canFly(Mammal):\n",
    "\tdef __init__(self, canFly_name):\n",
    "\t\tprint(canFly_name, \"cannot fly\")\n",
    "\t\tsuper().__init__(canFly_name)\n",
    "\t\tprint(\"Done from Fly\")\n",
    "\t\t\t\n",
    "class canSwim(Mammal):\n",
    "\tdef __init__(self, canSwim_name):\n",
    "\t\tprint(canSwim_name, \"cannot swim\")\n",
    "\t\tsuper().__init__(canSwim_name)\n",
    "\t\tprint(\"Done from swim\")\n",
    "\n",
    "\t\t\n",
    "class Animal(canFly, canSwim):\n",
    "\tdef __init__(self, name):\n",
    "\t\tsuper().__init__(name)\n",
    "\n",
    "# Driver Code\n",
    "Carol = Animal(\"Dog\")"
   ]
  },
  {
   "cell_type": "markdown",
   "metadata": {},
   "source": [
    "#### Name mangling with method overriding\n",
    "Due to name mangling, there is limited support for a valid use-case for class-private members basically to avoid name clashes of names with names defined by subclasses. Any identifier of the form __geek (at least two leading underscores or at most one trailing underscore) is replaced with _classname__geek, where classname is the current class name with leading underscore(s) stripped. As long as it occurs within the definition of the class, this mangling is done. This is helpful for letting subclasses override methods without breaking intraclass method calls."
   ]
  },
  {
   "cell_type": "code",
   "execution_count": 49,
   "metadata": {},
   "outputs": [
    {
     "name": "stdout",
     "output_type": "stream",
     "text": [
      "In parent class\n",
      "In Child class\n"
     ]
    }
   ],
   "source": [
    "# Python code to illustrate how mangling works \n",
    "# With method overriding\n",
    "  \n",
    "class Map: \n",
    "    def __init__(self): \n",
    "        self.__geek() \n",
    "          \n",
    "    def geek(self): \n",
    "        print(\"In parent class\") \n",
    "    \n",
    "    # private copy of original geek() method \n",
    "    __geek = geek    \n",
    "    \n",
    "class MapSubclass(Map): \n",
    "        \n",
    "    # provides new signature for geek() but \n",
    "    # does not break __init__() \n",
    "    def geek(self):         \n",
    "        print(\"In Child class\")\n",
    "          \n",
    "# Driver's code\n",
    "obj = MapSubclass()\n",
    "obj.geek()"
   ]
  },
  {
   "cell_type": "code",
   "execution_count": 50,
   "metadata": {},
   "outputs": [
    {
     "name": "stdout",
     "output_type": "stream",
     "text": [
      "['_Student__name', '__class__', '__delattr__', '__dict__', '__dir__', '__doc__', '__eq__', '__format__', '__ge__', '__getattribute__', '__gt__', '__hash__', '__init__', '__init_subclass__', '__le__', '__lt__', '__module__', '__ne__', '__new__', '__reduce__', '__reduce_ex__', '__repr__', '__setattr__', '__sizeof__', '__str__', '__subclasshook__', '__weakref__']\n"
     ]
    }
   ],
   "source": [
    "class Student:\n",
    "    def __init__(self, name):\n",
    "        self.__name = name\n",
    "  \n",
    "s1 = Student(\"Santhosh\")\n",
    "print(dir(s1))"
   ]
  },
  {
   "cell_type": "code",
   "execution_count": 53,
   "metadata": {},
   "outputs": [
    {
     "name": "stdout",
     "output_type": "stream",
     "text": [
      "<built-in method __dir__ of Student object at 0x7fe6f6bcb610>\n"
     ]
    }
   ],
   "source": [
    "print(s1.__dir__)"
   ]
  },
  {
   "cell_type": "code",
   "execution_count": 70,
   "metadata": {},
   "outputs": [
    {
     "name": "stdout",
     "output_type": "stream",
     "text": [
      "(<class 'object'>,)\n",
      "(<class '__main__.A'>, <class '__main__.B'>)\n",
      "<class '__main__.A'>\n"
     ]
    }
   ],
   "source": [
    "class A(): \n",
    "    pass\n",
    "\n",
    "class B(): \n",
    "    pass\n",
    "class C(A, B):\n",
    "    pass\n",
    "print(B.__bases__)\n",
    "print(C.__bases__)\n",
    "print(C.__base__)"
   ]
  },
  {
   "cell_type": "code",
   "execution_count": 76,
   "metadata": {},
   "outputs": [
    {
     "name": "stdout",
     "output_type": "stream",
     "text": [
      "True\n",
      "True\n"
     ]
    }
   ],
   "source": [
    "class Human:\n",
    "    def __init__(self, first_name, last_name):\n",
    "        self.first_name = first_name\n",
    "        self.last_name = last_name\n",
    "\n",
    "human_obj = Human(\"Virat\", \"Kohli\")\n",
    "\n",
    "print(isinstance(human_obj, Human)) # Output: True\n",
    "\n",
    "# As object is the base class for all the class hence\n",
    "# isinstance(human_obj, object) is True\n",
    "print(isinstance(human_obj, object)) # Output: True\n"
   ]
  },
  {
   "cell_type": "markdown",
   "metadata": {},
   "source": [
    "### Exception and Classes"
   ]
  },
  {
   "cell_type": "code",
   "execution_count": 81,
   "metadata": {},
   "outputs": [
    {
     "ename": "CriticalError",
     "evalue": "ERROR MESSAGE A",
     "output_type": "error",
     "traceback": [
      "\u001b[0;31m---------------------------------------------------------------------------\u001b[0m",
      "\u001b[0;31mCriticalError\u001b[0m                             Traceback (most recent call last)",
      "\u001b[0;32m/var/folders/5j/t70djgs95l7gn8q6j9t46l8c0000gn/T/ipykernel_77474/1372113100.py\u001b[0m in \u001b[0;36m<module>\u001b[0;34m\u001b[0m\n\u001b[1;32m      2\u001b[0m     \u001b[0;32mdef\u001b[0m \u001b[0m__init__\u001b[0m\u001b[0;34m(\u001b[0m\u001b[0mself\u001b[0m\u001b[0;34m,\u001b[0m \u001b[0mmessage\u001b[0m\u001b[0;34m=\u001b[0m\u001b[0;34m'ERROR MESSAGE A'\u001b[0m\u001b[0;34m)\u001b[0m\u001b[0;34m:\u001b[0m\u001b[0;34m\u001b[0m\u001b[0;34m\u001b[0m\u001b[0m\n\u001b[1;32m      3\u001b[0m             \u001b[0mException\u001b[0m\u001b[0;34m.\u001b[0m\u001b[0m__init__\u001b[0m\u001b[0;34m(\u001b[0m\u001b[0mself\u001b[0m\u001b[0;34m,\u001b[0m \u001b[0mmessage\u001b[0m\u001b[0;34m)\u001b[0m\u001b[0;34m\u001b[0m\u001b[0;34m\u001b[0m\u001b[0m\n\u001b[0;32m----> 4\u001b[0;31m \u001b[0;32mraise\u001b[0m \u001b[0mCriticalError\u001b[0m\u001b[0;34m\u001b[0m\u001b[0;34m\u001b[0m\u001b[0m\n\u001b[0m",
      "\u001b[0;31mCriticalError\u001b[0m: ERROR MESSAGE A"
     ]
    }
   ],
   "source": [
    "class CriticalError(Exception):\n",
    "    def __init__(self, message='ERROR MESSAGE A'):\n",
    "            Exception.__init__(self, message)\n",
    "raise CriticalError\n"
   ]
  },
  {
   "cell_type": "code",
   "execution_count": 95,
   "metadata": {},
   "outputs": [
    {
     "ename": "CriticalError",
     "evalue": "ERROR MESSAGE B",
     "output_type": "error",
     "traceback": [
      "\u001b[0;31m---------------------------------------------------------------------------\u001b[0m",
      "\u001b[0;31mCriticalError\u001b[0m                             Traceback (most recent call last)",
      "\u001b[0;32m/var/folders/5j/t70djgs95l7gn8q6j9t46l8c0000gn/T/ipykernel_77474/237123987.py\u001b[0m in \u001b[0;36m<module>\u001b[0;34m\u001b[0m\n\u001b[1;32m      2\u001b[0m     \u001b[0;32mdef\u001b[0m \u001b[0m__init__\u001b[0m\u001b[0;34m(\u001b[0m\u001b[0mself\u001b[0m\u001b[0;34m,\u001b[0m \u001b[0mmessage\u001b[0m\u001b[0;34m=\u001b[0m\u001b[0;34m'ERROR MESSAGE A'\u001b[0m\u001b[0;34m)\u001b[0m\u001b[0;34m:\u001b[0m\u001b[0;34m\u001b[0m\u001b[0;34m\u001b[0m\u001b[0m\n\u001b[1;32m      3\u001b[0m         \u001b[0mException\u001b[0m\u001b[0;34m.\u001b[0m\u001b[0m__init__\u001b[0m\u001b[0;34m(\u001b[0m\u001b[0mself\u001b[0m\u001b[0;34m,\u001b[0m \u001b[0mmessage\u001b[0m\u001b[0;34m)\u001b[0m\u001b[0;34m\u001b[0m\u001b[0;34m\u001b[0m\u001b[0m\n\u001b[0;32m----> 4\u001b[0;31m \u001b[0;32mraise\u001b[0m \u001b[0mCriticalError\u001b[0m\u001b[0;34m(\u001b[0m\u001b[0;34m\"ERROR MESSAGE B\"\u001b[0m\u001b[0;34m)\u001b[0m\u001b[0;34m\u001b[0m\u001b[0;34m\u001b[0m\u001b[0m\n\u001b[0m",
      "\u001b[0;31mCriticalError\u001b[0m: ERROR MESSAGE B"
     ]
    }
   ],
   "source": [
    "class CriticalError(Exception):\n",
    "    def __init__(self, message='ERROR MESSAGE A'):\n",
    "        Exception.__init__(self, message)\n",
    "raise CriticalError(\"ERROR MESSAGE B\")"
   ]
  },
  {
   "cell_type": "code",
   "execution_count": 84,
   "metadata": {},
   "outputs": [
    {
     "data": {
      "text/plain": [
       "1"
      ]
     },
     "execution_count": 84,
     "metadata": {},
     "output_type": "execute_result"
    }
   ],
   "source": [
    "class A:\n",
    "    def __init__(self):\n",
    "        self.a=1\n",
    "\n",
    "class B(A):\n",
    "    def __init__(self):\n",
    "        A.__init__(self)\n",
    "        self.b=2\n",
    "B().a"
   ]
  },
  {
   "cell_type": "code",
   "execution_count": 88,
   "metadata": {},
   "outputs": [
    {
     "name": "stdout",
     "output_type": "stream",
     "text": [
      "b\n"
     ]
    }
   ],
   "source": [
    "class A:\n",
    "    def a(self):\n",
    "        print(\"a\")\n",
    "\n",
    "class B:\n",
    "    def a(self):\n",
    "        print(\"b\")\n",
    "\n",
    "class C(B,A):\n",
    "    def c(self):\n",
    "        self.a()\n",
    "\n",
    "C().c()\n"
   ]
  },
  {
   "cell_type": "code",
   "execution_count": 89,
   "metadata": {},
   "outputs": [
    {
     "name": "stdout",
     "output_type": "stream",
     "text": [
      "a\n"
     ]
    }
   ],
   "source": [
    "class C(A, B):\n",
    "    def c(self):\n",
    "        self.a()\n",
    "\n",
    "C().c()"
   ]
  }
 ],
 "metadata": {
  "language_info": {
   "name": "python"
  }
 },
 "nbformat": 4,
 "nbformat_minor": 4
}
