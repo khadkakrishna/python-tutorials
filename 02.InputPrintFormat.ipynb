{
 "cells": [
  {
   "cell_type": "markdown",
   "metadata": {},
   "source": [
    "### INPUT Taking using input() method\n",
    "* input output in python\n",
    "* taking multiple inputs\n",
    "* competitive  input output \n",
    "* use of print() method\n",
    "* output formatting in Python "
   ]
  },
  {
   "cell_type": "code",
   "execution_count": 1,
   "metadata": {},
   "outputs": [
    {
     "name": "stdout",
     "output_type": "stream",
     "text": [
      "Enter your value: 23\n",
      "23\n"
     ]
    }
   ],
   "source": [
    "val = input(\"Enter your value: \") \n",
    "print(val) "
   ]
  },
  {
   "cell_type": "code",
   "execution_count": 2,
   "metadata": {},
   "outputs": [
    {
     "name": "stdout",
     "output_type": "stream",
     "text": [
      "Enter number :23\n",
      "23\n",
      "Enter name : krish\n",
      "krish\n",
      "type of number <class 'str'>\n",
      "type of name <class 'str'>\n"
     ]
    }
   ],
   "source": [
    "num = input (\"Enter number :\") \n",
    "print(num) \n",
    "name1 = input(\"Enter name : \") \n",
    "print(name1) \n",
    "  \n",
    "# Printing type of input value \n",
    "print (\"type of number\", type(num)) \n",
    "print (\"type of name\", type(name1)) "
   ]
  },
  {
   "cell_type": "code",
   "execution_count": 3,
   "metadata": {},
   "outputs": [
    {
     "name": "stdout",
     "output_type": "stream",
     "text": [
      "krish\n",
      "krish\n"
     ]
    }
   ],
   "source": [
    "# input \n",
    "input1 = input() \n",
    "  \n",
    "# output \n",
    "print(input1) "
   ]
  },
  {
   "cell_type": "code",
   "execution_count": 4,
   "metadata": {},
   "outputs": [
    {
     "name": "stdout",
     "output_type": "stream",
     "text": [
      "2\n",
      "3\n",
      "5\n"
     ]
    }
   ],
   "source": [
    "#typecasting\n",
    "num1 = int(input()) \n",
    "num2 = int(input()) \n",
    "  \n",
    "# printing the sum in integer \n",
    "print(num1 + num2) "
   ]
  },
  {
   "cell_type": "markdown",
   "metadata": {},
   "source": [
    "### Taking multiple inputs from user\n",
    ">This function helps in getting a multiple inputs from user . It breaks the given input by the specified separator. If separator is not provided then any white space is a separator. Generally, user use a split() method to split a Python string but one can used it in taking multiple input.\n",
    "\n",
    ">input().split(separator, maxsplit)\n"
   ]
  },
  {
   "cell_type": "code",
   "execution_count": 5,
   "metadata": {},
   "outputs": [
    {
     "name": "stdout",
     "output_type": "stream",
     "text": [
      "Enter a two value: 10 20\n",
      "Number of boys:  10\n",
      "Number of girls:  20\n"
     ]
    }
   ],
   "source": [
    "x, y = input(\"Enter a two value: \").split() \n",
    "print(\"Number of boys: \", x) \n",
    "print(\"Number of girls: \", y) "
   ]
  },
  {
   "cell_type": "code",
   "execution_count": 6,
   "metadata": {},
   "outputs": [
    {
     "name": "stdout",
     "output_type": "stream",
     "text": [
      "Enter a two value: 20 30\n",
      "First number is 20 and second number is 30\n",
      "\n"
     ]
    }
   ],
   "source": [
    "a, b = input(\"Enter a two value: \").split() \n",
    "print(\"First number is {} and second number is {}\".format(a, b)) \n",
    "print() "
   ]
  },
  {
   "cell_type": "code",
   "execution_count": 7,
   "metadata": {},
   "outputs": [
    {
     "name": "stdout",
     "output_type": "stream",
     "text": [
      "Enter a multiple value: 20 30\n",
      "List of students:  [20, 30]\n"
     ]
    }
   ],
   "source": [
    "x = list(map(int, input(\"Enter a multiple value: \").split())) \n",
    "print(\"List of students: \", x) "
   ]
  },
  {
   "cell_type": "code",
   "execution_count": 8,
   "metadata": {},
   "outputs": [
    {
     "name": "stdout",
     "output_type": "stream",
     "text": [
      "Enter two value: 20 30\n",
      "First Number is:  20\n",
      "Second Number is:  30\n"
     ]
    }
   ],
   "source": [
    "x, y = [int(x) for x in input(\"Enter two value: \").split()] \n",
    "print(\"First Number is: \", x) \n",
    "print(\"Second Number is: \", y) "
   ]
  },
  {
   "cell_type": "code",
   "execution_count": 9,
   "metadata": {},
   "outputs": [
    {
     "name": "stdout",
     "output_type": "stream",
     "text": [
      "Enter multiple value: 20 30\n",
      "Number of list is:  [20, 30]\n"
     ]
    }
   ],
   "source": [
    "x = [int(x) for x in input(\"Enter multiple value: \").split()] \n",
    "print(\"Number of list is: \", x) "
   ]
  },
  {
   "cell_type": "markdown",
   "metadata": {},
   "source": [
    "### Input methods for competitive programming"
   ]
  },
  {
   "cell_type": "code",
   "execution_count": 12,
   "metadata": {},
   "outputs": [
    {
     "name": "stdout",
     "output_type": "stream",
     "text": [
      "5\n",
      "1 2 3 4 5\n",
      "15\n"
     ]
    }
   ],
   "source": [
    "#standard way\n",
    "n = int(input()) \n",
    "  \n",
    "arr = [int(x) for x in input().split()] \n",
    "  \n",
    "summation = 0\n",
    "for x in arr: \n",
    "    summation += x  \n",
    "print(summation) "
   ]
  },
  {
   "cell_type": "markdown",
   "metadata": {},
   "source": [
    "> 1) stdin.readline()\n",
    "It is used to take the input, it takes the input as a string by default and if you want to take input as an integer then use the eval() or int() functions. If you want to take space separated inputs in a single line then use split().\n",
    "\n",
    "> 2) stdout.write()\n",
    "It gives the output in string type. And if you want the multiple outputs in a single statement, use '+' in the between the two."
   ]
  },
  {
   "cell_type": "code",
   "execution_count": 21,
   "metadata": {},
   "outputs": [
    {
     "name": "stdout",
     "output_type": "stream",
     "text": [
      "0"
     ]
    }
   ],
   "source": [
    "from sys import stdin, stdout  \n",
    "  \n",
    "# suppose a function called main() and \n",
    "# all the operations are performed \n",
    "def main(): \n",
    "  \n",
    "    # input via readline method \n",
    "    n = stdin.readline() \n",
    "  \n",
    "    # array input similar method \n",
    "    arr = [int(x) for x in stdin.readline().split()] \n",
    "  \n",
    "    #initialize variable \n",
    "    summation = 0\n",
    "      \n",
    "    # calculate sum \n",
    "    for x in arr: \n",
    "        summation += x \n",
    "  \n",
    "    # could use inbuilt summation = sum(arr) \n",
    "  \n",
    "    # print answer via write \n",
    "    # write method writes only \n",
    "    # string operations \n",
    "    # so we need to convert any \n",
    "    # data into string for input \n",
    "    stdout.write(str(summation)) \n",
    "\n",
    "if __name__ == \"__main__\": \n",
    "    main() "
   ]
  },
  {
   "cell_type": "code",
   "execution_count": 22,
   "metadata": {},
   "outputs": [
    {
     "ename": "ValueError",
     "evalue": "not enough values to unpack (expected 4, got 0)",
     "output_type": "error",
     "traceback": [
      "\u001b[0;31m---------------------------------------------------------------------------\u001b[0m",
      "\u001b[0;31mValueError\u001b[0m                                Traceback (most recent call last)",
      "\u001b[0;32m<ipython-input-22-b470a54dc0ec>\u001b[0m in \u001b[0;36m<module>\u001b[0;34m\u001b[0m\n\u001b[1;32m      2\u001b[0m \u001b[0;32mdef\u001b[0m \u001b[0mget_ints\u001b[0m\u001b[0;34m(\u001b[0m\u001b[0;34m)\u001b[0m\u001b[0;34m:\u001b[0m \u001b[0;32mreturn\u001b[0m \u001b[0mmap\u001b[0m\u001b[0;34m(\u001b[0m\u001b[0mint\u001b[0m\u001b[0;34m,\u001b[0m \u001b[0msys\u001b[0m\u001b[0;34m.\u001b[0m\u001b[0mstdin\u001b[0m\u001b[0;34m.\u001b[0m\u001b[0mreadline\u001b[0m\u001b[0;34m(\u001b[0m\u001b[0;34m)\u001b[0m\u001b[0;34m.\u001b[0m\u001b[0mstrip\u001b[0m\u001b[0;34m(\u001b[0m\u001b[0;34m)\u001b[0m\u001b[0;34m.\u001b[0m\u001b[0msplit\u001b[0m\u001b[0;34m(\u001b[0m\u001b[0;34m)\u001b[0m\u001b[0;34m)\u001b[0m\u001b[0;34m\u001b[0m\u001b[0;34m\u001b[0m\u001b[0m\n\u001b[1;32m      3\u001b[0m \u001b[0;34m\u001b[0m\u001b[0m\n\u001b[0;32m----> 4\u001b[0;31m \u001b[0ma\u001b[0m\u001b[0;34m,\u001b[0m\u001b[0mb\u001b[0m\u001b[0;34m,\u001b[0m\u001b[0mc\u001b[0m\u001b[0;34m,\u001b[0m\u001b[0md\u001b[0m \u001b[0;34m=\u001b[0m \u001b[0mget_ints\u001b[0m\u001b[0;34m(\u001b[0m\u001b[0;34m)\u001b[0m\u001b[0;34m\u001b[0m\u001b[0;34m\u001b[0m\u001b[0m\n\u001b[0m",
      "\u001b[0;31mValueError\u001b[0m: not enough values to unpack (expected 4, got 0)"
     ]
    }
   ],
   "source": [
    "import sys \n",
    "def get_ints(): return map(int, sys.stdin.readline().strip().split()) \n",
    "  \n",
    "a,b,c,d = get_ints() "
   ]
  },
  {
   "cell_type": "code",
   "execution_count": 25,
   "metadata": {},
   "outputs": [
    {
     "name": "stdout",
     "output_type": "stream",
     "text": [
      "[]\n"
     ]
    }
   ],
   "source": [
    "import sys \n",
    "def get_ints(): return list(map(int, sys.stdin.readline().strip().split())) \n",
    "  \n",
    "Arr = get_ints() \n",
    "print(Arr)"
   ]
  },
  {
   "cell_type": "markdown",
   "metadata": {},
   "source": [
    "### print() function\n",
    ">Syntax: print(value(s), sep= ‘ ‘, end = ‘\\n’, file=file, flush=flush)\n",
    "\n",
    ">Parameters:\n",
    "\n",
    ">value(s) : Any value, and as many as you like. Will be converted to string before printed\n",
    "\n",
    ">sep=’separator’ : (Optional) Specify how to separate the objects, if there is more than one.Default :’ ‘\n",
    "\n",
    ">end=’end’: (Optional) Specify what to print at the end.Default : ‘\\n’\n",
    "\n",
    ">file : (Optional) An object with a write method. Default :sys.stdout\n",
    "\n",
    ">flush : (Optional) A Boolean, specifying if the output is flushed (True) or buffered (False). Default: False\n",
    "\n",
    ">Returns: It returns output to the screen."
   ]
  },
  {
   "cell_type": "code",
   "execution_count": 3,
   "metadata": {},
   "outputs": [
    {
     "name": "stdout",
     "output_type": "stream",
     "text": [
      "GeeksForGeeks\n",
      "x = 5\n",
      "GFG\n",
      "Python@GeeksforGeeks\n",
      "a b c@"
     ]
    }
   ],
   "source": [
    "print(\"GeeksForGeeks\") \n",
    "  \n",
    "x = 5\n",
    "# Two objects are passed \n",
    "print(\"x =\", x) \n",
    "  \n",
    "# code for disabling the softspace feature  \n",
    "print('G', 'F', 'G', sep ='') \n",
    "  \n",
    "# using end argument \n",
    "print(\"Python\", end = '@')   \n",
    "print(\"GeeksforGeeks\")\n",
    "\n",
    "print('a','b','c',end=\"@\")"
   ]
  },
  {
   "cell_type": "code",
   "execution_count": 27,
   "metadata": {},
   "outputs": [
    {
     "name": "stdout",
     "output_type": "stream",
     "text": [
      "geeks geeksforgeeks\n",
      "1 2 3 4 "
     ]
    }
   ],
   "source": [
    "print(\"geeks\", end =\" \") \n",
    "print(\"geeksforgeeks\") \n",
    "  \n",
    "# array \n",
    "a = [1, 2, 3, 4] \n",
    "  \n",
    "# printing a element in same \n",
    "# line \n",
    "for i in range(4): \n",
    "    print(a[i], end =\" \")"
   ]
  },
  {
   "cell_type": "code",
   "execution_count": 5,
   "metadata": {},
   "outputs": [
    {
     "name": "stdout",
     "output_type": "stream",
     "text": [
      "KRI\n",
      "09-12-2016\n",
      "krishnakhadka@gmail.com\n"
     ]
    }
   ],
   "source": [
    "print('K','R', sep='', end='') \n",
    "print('I') \n",
    "#\\n provides new line after printing the year \n",
    "print('09','12', sep='-', end='-2016\\n') \n",
    "  \n",
    "print('krishna','khadka', sep='', end='@') \n",
    "print('gmail.com') "
   ]
  },
  {
   "cell_type": "markdown",
   "metadata": {},
   "source": [
    "### OUTPUT FORMATTING\n",
    "\n",
    "#### using % operator\n",
    "\n",
    "%[flags][width][.precision]type \n",
    "\n",
    "* The first placeholder “%2d” is used for the first component of our tuple, i.e. the integer 1. The number will be printed with 2 characters. As 1 consists only of one digits, the output is padded with 1 leading blanks.\n",
    "\n",
    "* The second one “%8.2f” is a format description for a float number. Like other placeholders, it is introduced with the % character. This is followed by the total number of digits the string should contain. This number includes the decimal point and all the digits, i.e. before and after the decimal point.\n",
    "\n",
    "* Our float number 05.333 has to be formatted with 5 characters. The decimal part of the number or the precision is set to 2, i.e. the number following the “.” in our placeholder. Finally, the last character “f” of our placeholder stands for “float”.\n"
   ]
  },
  {
   "cell_type": "code",
   "execution_count": 31,
   "metadata": {
    "scrolled": true
   },
   "outputs": [
    {
     "name": "stdout",
     "output_type": "stream",
     "text": [
      "Hello this is no. 53, float 20.00\n"
     ]
    }
   ],
   "source": [
    "print(\"Hello this is no. %d, float %5.2f\" %(53.8094,20))"
   ]
  },
  {
   "cell_type": "code",
   "execution_count": 33,
   "metadata": {},
   "outputs": [
    {
     "name": "stdout",
     "output_type": "stream",
     "text": [
      "this is  3.568E+04\n"
     ]
    }
   ],
   "source": [
    "print(\"this is % 10.3E\" %(35679.5897))"
   ]
  },
  {
   "cell_type": "code",
   "execution_count": 7,
   "metadata": {},
   "outputs": [
    {
     "name": "stdout",
     "output_type": "stream",
     "text": [
      "Geeks :  1,\n",
      "Portal :  5.33 \n",
      "Total students : 240, Boys : 120\n",
      "    031\n",
      " 3.561E+02\n"
     ]
    }
   ],
   "source": [
    "# print integer and float value \n",
    "print(\"Geeks : %2d,\\nPortal : %5.2f \" %(1, 05.333 ))  \n",
    "  \n",
    "# print integer value \n",
    "print(\"Total students : %3d, Boys : %2d\" %(240, 120)) \n",
    "  \n",
    "# print octal value \n",
    "print(\"%7.3o\"% (25)) \n",
    "  \n",
    "# print exponential value \n",
    "print(\"%10.3E\"% (356.08977))"
   ]
  },
  {
   "cell_type": "markdown",
   "metadata": {},
   "source": [
    "#### using format() method"
   ]
  },
  {
   "cell_type": "code",
   "execution_count": 42,
   "metadata": {},
   "outputs": [
    {
     "name": "stdout",
     "output_type": "stream",
     "text": [
      "I love Geeks for \"Geeks!\"\n",
      "Geeks and Portal\n",
      "Portal and Geeks\n"
     ]
    }
   ],
   "source": [
    "print('I love {} for \"{}!\"'.format('Geeks', 'Geeks')) \n",
    "\n",
    "print('{0} and {1}'.format('Geeks', 'Portal')) \n",
    "  \n",
    "print('{1} and {0}'.format('Geeks', 'Portal')) "
   ]
  },
  {
   "cell_type": "code",
   "execution_count": 43,
   "metadata": {},
   "outputs": [
    {
     "name": "stdout",
     "output_type": "stream",
     "text": [
      "Number one portal is Geeks, For, and Geeks.\n",
      "Geeks :12, Portal :    0.55\n",
      "Second argument:  11, first one:   47.42\n",
      "Geeks:   453,  Portal:    59.06\n"
     ]
    }
   ],
   "source": [
    "print('Number one portal is {0}, {1}, and {other}.'\n",
    "     .format('Geeks', 'For', other ='Geeks')) \n",
    "  \n",
    "# using format() method with number  \n",
    "print(\"Geeks :{0:2d}, Portal :{1:8.2f}\". \n",
    "      format(12, 00.546)) \n",
    "  \n",
    "# Changing positional argument \n",
    "print(\"Second argument: {1:3d}, first one: {0:7.2f}\". \n",
    "      format(47.42, 11)) \n",
    "  \n",
    "print(\"Geeks: {a:5d},  Portal: {p:8.2f}\". \n",
    "     format(a = 453, p = 59.058)) "
   ]
  },
  {
   "cell_type": "code",
   "execution_count": 45,
   "metadata": {},
   "outputs": [
    {
     "name": "stdout",
     "output_type": "stream",
     "text": [
      "Geeks: 4127; For: 4098; Geeks: 8637678\n",
      "I love GeeksForGeeks computer Portal\n"
     ]
    }
   ],
   "source": [
    "tab = {'geeks': 4127, 'for': 4098, 'geek': 8637678} \n",
    "  \n",
    "# using format() in dictionary \n",
    "print('Geeks: {0[geeks]:d}; For: {0[for]:d}; Geeks: {0[geek]:d}'.format(tab)) \n",
    "  \n",
    "data = dict(fun =\"GeeksForGeeks\", adj =\"Portal\") \n",
    "  \n",
    "# using format() in dictionary \n",
    "print(\"I love {fun} computer {adj}\".format(**data)) "
   ]
  },
  {
   "cell_type": "markdown",
   "metadata": {},
   "source": [
    "#### formatting output using string methods"
   ]
  },
  {
   "cell_type": "code",
   "execution_count": 46,
   "metadata": {},
   "outputs": [
    {
     "name": "stdout",
     "output_type": "stream",
     "text": [
      "Center aligned string with fillchr: \n",
      "##########I love geeksforgeeks##########\n",
      "The left aligned string is : \n",
      "I love geeksforgeeks--------------------\n",
      "The right aligned string is : \n",
      "--------------------I love geeksforgeeks\n"
     ]
    }
   ],
   "source": [
    "cstr = \"I love geeksforgeeks\"\n",
    "    \n",
    "# Printing the center aligned   \n",
    "# string with fillchr  \n",
    "print (\"Center aligned string with fillchr: \")  \n",
    "print (cstr.center(40, '#'))  \n",
    "  \n",
    "# Printing the left aligned   \n",
    "# string with \"-\" padding   \n",
    "print (\"The left aligned string is : \")  \n",
    "print (cstr.ljust(40, '-')) \n",
    "  \n",
    "# Printing the right aligned string  \n",
    "# with \"-\" padding   \n",
    "print (\"The right aligned string is : \")  \n",
    "print (cstr.rjust(40, '-')) "
   ]
  },
  {
   "cell_type": "code",
   "execution_count": null,
   "metadata": {},
   "outputs": [],
   "source": []
  }
 ],
 "metadata": {
  "kernelspec": {
   "display_name": "Python 3",
   "language": "python",
   "name": "python3"
  },
  "language_info": {
   "codemirror_mode": {
    "name": "ipython",
    "version": 3
   },
   "file_extension": ".py",
   "mimetype": "text/x-python",
   "name": "python",
   "nbconvert_exporter": "python",
   "pygments_lexer": "ipython3",
   "version": "3.9.4"
  }
 },
 "nbformat": 4,
 "nbformat_minor": 4
}
