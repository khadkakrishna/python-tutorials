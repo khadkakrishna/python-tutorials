{
 "cells": [
  {
   "cell_type": "markdown",
   "metadata": {},
   "source": [
    "## Date and time module"
   ]
  },
  {
   "cell_type": "markdown",
   "metadata": {},
   "source": [
    "### Time Module"
   ]
  },
  {
   "cell_type": "raw",
   "metadata": {},
   "source": [
    "In python, the date is not a data type, but we can work with the date objects by importing the module named with datetime, time, and calendar.\n",
    "#Tick\n",
    "In python, the time instants are counted since 12 AM, 1st January 1970. \n",
    "The function time() of the module time returns the total number of ticks spent since 12 AM, 1st January 1970. \n",
    "A tick can be seen as the smallest unit to measure the time.\n",
    "\n",
    "#Current-time\n",
    "The localtime() functions of the time module are used to get the current time tuple.\n",
    "\n",
    "#time-tuple\n",
    "The time is treated as the tuple of 9 numbers. \n",
    "0\tYear\t            4 digit (for example 2018)\n",
    "1\tMonth\t            1 to 12\n",
    "2\tDay\t                1 to 31\n",
    "3\tHour\t            0 to 23\n",
    "4\tMinute\t            0 to 59\n",
    "5\tSecond\t            0 to 60\n",
    "6\tDay of week         0 to 6\n",
    "7\tDay of year         1 to 366\n",
    "8\tDaylight savings   -1, 0, 1 where -1 means Library determines DST"
   ]
  },
  {
   "cell_type": "markdown",
   "metadata": {},
   "source": [
    "### Operations on time\n",
    "1.time() :- This function is used to count the number of seconds elapsed since the epoch.\n",
    "\n",
    "2.gmtime() :- This function returns a structure with 9 values each representing a time attribute in sequence. It converts seconds into time attributes(days, years, months etc.) till specified seconds from epoch. If no seconds are mentioned, time is calculated till present.\n",
    "\n",
    "3.asctime(“time”) :- This function takes a time attributed string produced by gmtime() and returns a 24 character string denoting time.\n",
    "\n",
    "4.ctime() :- This function returns a 24 character time string but takes seconds as argument and computes time till mentioned seconds. If no argument is passed, time is calculated till present.\n",
    "\n",
    "5.sleep(sec) :- This method is used to hault the program execution for the time specified in the arguments."
   ]
  },
  {
   "cell_type": "code",
   "execution_count": null,
   "metadata": {
    "scrolled": true
   },
   "outputs": [],
   "source": [
    "import time \n",
    "#prints the number of ticks spent since 12 AM, 1st January 1970  \n",
    "print(time.time())"
   ]
  },
  {
   "cell_type": "code",
   "execution_count": 37,
   "metadata": {},
   "outputs": [
    {
     "data": {
      "text/plain": [
       "time.struct_time(tm_year=2019, tm_mon=12, tm_mday=18, tm_hour=21, tm_min=2, tm_sec=47, tm_wday=2, tm_yday=352, tm_isdst=0)"
      ]
     },
     "execution_count": 37,
     "metadata": {},
     "output_type": "execute_result"
    }
   ],
   "source": [
    "time.gmtime()"
   ]
  },
  {
   "cell_type": "code",
   "execution_count": 4,
   "metadata": {},
   "outputs": [
    {
     "name": "stdout",
     "output_type": "stream",
     "text": [
      "time.struct_time(tm_year=2019, tm_mon=12, tm_mday=18, tm_hour=20, tm_min=27, tm_sec=15, tm_wday=2, tm_yday=352, tm_isdst=0)\n"
     ]
    }
   ],
   "source": [
    "print(time.localtime(time.time()))  "
   ]
  },
  {
   "cell_type": "code",
   "execution_count": 38,
   "metadata": {},
   "outputs": [
    {
     "name": "stdout",
     "output_type": "stream",
     "text": [
      "Time calculated using asctime() is : Wed Dec 18 21:03:51 2019\n",
      "Time calculated using ctime() is : Wed Dec 18 21:03:51 2019\n"
     ]
    }
   ],
   "source": [
    "import time  \n",
    "ti = time.gmtime() \n",
    "  \n",
    "# using asctime() to display time acc. to time mentioned \n",
    "print (\"Time calculated using asctime() is : \",end=\"\") \n",
    "print (time.asctime(ti)) \n",
    "  \n",
    "# using ctime() to diplay time string using seconds  \n",
    "print (\"Time calculated using ctime() is : \", end=\"\") \n",
    "print (time.ctime())   "
   ]
  },
  {
   "cell_type": "raw",
   "metadata": {},
   "source": [
    "Python sleep time\n",
    "The sleep() method of time module is used to stop the execution of the script for a given amount of time. \n",
    "The output will be delayed for the number of seconds given as float."
   ]
  },
  {
   "cell_type": "code",
   "execution_count": 6,
   "metadata": {},
   "outputs": [
    {
     "name": "stdout",
     "output_type": "stream",
     "text": [
      "0\n",
      "1\n",
      "2\n",
      "3\n",
      "4\n"
     ]
    }
   ],
   "source": [
    "import time  \n",
    "for i in range(0,5):  \n",
    "    print(i)  \n",
    "    #Each element will be printed after 1 second  \n",
    "    time.sleep(1)  "
   ]
  },
  {
   "cell_type": "markdown",
   "metadata": {},
   "source": [
    "### Datetime Module\n",
    "The datetime module enables us to create the custom date objects, perform various operations on dates like the comparison, etc.\n",
    "To work with dates as date objects, we have to import datetime module into the python source code.\n",
    "\n",
    "The datetime classes are categorize into 6 main classes –\n",
    "\n",
    "1.date – An idealized naive date, assuming the current Gregorian calendar always was, and always will be, in effect. Its attributes are year, month and day.\n",
    "\n",
    "2.time – An idealized time, independent of any particular day, assuming that every day has exactly 24*60*60 seconds. Its attributes are hour, minute, second, microsecond, and tzinfo.\n",
    "\n",
    "3.datetime – Its a combination of date and time along with the attributes year, month, day, hour, minute, second, microsecond, and tzinfo.\n",
    "\n",
    "4.timedelta – A duration expressing the difference between two date, time, or datetime instances to microsecond resolution.\n",
    "\n",
    "5.tzinfo – It provides time zone information objects.\n",
    "\n",
    "6.timezone – A class that implements the tzinfo abstract base class as a fixed offset from the UTC (New in version 3.2)."
   ]
  },
  {
   "cell_type": "markdown",
   "metadata": {},
   "source": [
    "##### DATE"
   ]
  },
  {
   "cell_type": "code",
   "execution_count": 22,
   "metadata": {},
   "outputs": [
    {
     "name": "stdout",
     "output_type": "stream",
     "text": [
      "Date passed as argument is 1996-12-11\n"
     ]
    }
   ],
   "source": [
    "from datetime import date \n",
    "my_date = date(1996, 12, 11) \n",
    "print(\"Date passed as argument is\", my_date)"
   ]
  },
  {
   "cell_type": "code",
   "execution_count": 23,
   "metadata": {},
   "outputs": [
    {
     "data": {
      "text/plain": [
       "datetime.date(2019, 12, 18)"
      ]
     },
     "execution_count": 23,
     "metadata": {},
     "output_type": "execute_result"
    }
   ],
   "source": [
    "today=date.today() \n",
    "today"
   ]
  },
  {
   "cell_type": "code",
   "execution_count": 25,
   "metadata": {},
   "outputs": [
    {
     "data": {
      "text/plain": [
       "(2019, 18)"
      ]
     },
     "execution_count": 25,
     "metadata": {},
     "output_type": "execute_result"
    }
   ],
   "source": [
    "today.year, today.day"
   ]
  },
  {
   "cell_type": "markdown",
   "metadata": {},
   "source": [
    "##### TIME"
   ]
  },
  {
   "cell_type": "code",
   "execution_count": 26,
   "metadata": {},
   "outputs": [
    {
     "name": "stdout",
     "output_type": "stream",
     "text": [
      "Entered time 13:24:56\n",
      "\n",
      "Time with one argument 00:12:00\n",
      "\n",
      "Time without argument 00:00:00\n"
     ]
    }
   ],
   "source": [
    "from datetime import time \n",
    "my_time = time(13, 24, 56) \n",
    "print(\"Entered time\", my_time) \n",
    "  \n",
    "# calling constructor with 1 argument\n",
    "my_time = time(minute = 12) \n",
    "print(\"\\nTime with one argument\", my_time) \n",
    "  \n",
    "# Calling constructor with 0 argument \n",
    "my_time = time() \n",
    "print(\"\\nTime without argument\", my_time) "
   ]
  },
  {
   "cell_type": "code",
   "execution_count": 27,
   "metadata": {},
   "outputs": [
    {
     "name": "stdout",
     "output_type": "stream",
     "text": [
      "hour = 11\n",
      "minute = 34\n",
      "second = 56\n",
      "microsecond = 0\n"
     ]
    }
   ],
   "source": [
    "Time = time(11, 34, 56) \n",
    "  \n",
    "print(\"hour =\", Time.hour) \n",
    "print(\"minute =\", Time.minute) \n",
    "print(\"second =\", Time.second) \n",
    "print(\"microsecond =\", Time.microsecond) "
   ]
  },
  {
   "cell_type": "markdown",
   "metadata": {},
   "source": [
    "##### DATETIME"
   ]
  },
  {
   "cell_type": "code",
   "execution_count": 7,
   "metadata": {
    "scrolled": false
   },
   "outputs": [
    {
     "name": "stdout",
     "output_type": "stream",
     "text": [
      "2019-12-18 20:33:44.018573\n"
     ]
    }
   ],
   "source": [
    "import datetime;  \n",
    "#returns the current datetime object   \n",
    "print(datetime.datetime.now()) "
   ]
  },
  {
   "cell_type": "code",
   "execution_count": 9,
   "metadata": {},
   "outputs": [
    {
     "name": "stdout",
     "output_type": "stream",
     "text": [
      "2018-12-10 00:00:00\n",
      "2018-12-10 14:15:10\n"
     ]
    }
   ],
   "source": [
    "#creating date object\n",
    "print(datetime.datetime(2018,12,10)) \n",
    "print(datetime.datetime(2018,12,10,14,15,10))  "
   ]
  },
  {
   "cell_type": "code",
   "execution_count": 29,
   "metadata": {},
   "outputs": [
    {
     "name": "stdout",
     "output_type": "stream",
     "text": [
      "year = 1999\n",
      "month = 12\n",
      "hour = 12\n",
      "minute = 12\n",
      "timestamp = 945000732.0\n"
     ]
    }
   ],
   "source": [
    "from datetime import datetime \n",
    "a = datetime(1999, 12, 12, 12, 12, 12) \n",
    "  \n",
    "print(\"year =\", a.year) \n",
    "print(\"month =\", a.month) \n",
    "print(\"hour =\", a.hour) \n",
    "print(\"minute =\", a.minute) \n",
    "print(\"timestamp =\", a.timestamp()) "
   ]
  },
  {
   "cell_type": "code",
   "execution_count": 11,
   "metadata": {},
   "outputs": [
    {
     "name": "stdout",
     "output_type": "stream",
     "text": [
      "fun hours\n"
     ]
    }
   ],
   "source": [
    "#Compares the time. If the time is in between 8AM and 4PM, then it prints working hours otherwise it prints fun hours  \n",
    "from datetime import datetime as dt  \n",
    "\n",
    "if dt(dt.now().year,dt.now().month,dt.now().day,8)<dt.now()<dt(dt.now().year,dt.now().month,dt.now().day,16):  \n",
    "    print(\"Working hours....\")  \n",
    "else:  \n",
    "    print(\"fun hours\")  "
   ]
  },
  {
   "cell_type": "markdown",
   "metadata": {},
   "source": [
    "##### TIMEDELTA"
   ]
  },
  {
   "cell_type": "code",
   "execution_count": 32,
   "metadata": {},
   "outputs": [
    {
     "name": "stdout",
     "output_type": "stream",
     "text": [
      "initial_date 2019-12-18 20:57:14.269135\n",
      "future_date_after_2yrs: 2021-12-17 20:57:14.269135\n",
      "future_date_after_2days: 2019-12-20 20:57:14.269135\n"
     ]
    }
   ],
   "source": [
    "from datetime import datetime, timedelta  \n",
    "  \n",
    "ini_time_for_now = datetime.now()  \n",
    "    \n",
    "# printing initial_date  \n",
    "print (\"initial_date\", str(ini_time_for_now))  \n",
    "    \n",
    "# Calculating future dates  \n",
    "# for two years  \n",
    "future_date_after_2yrs = ini_time_for_now + timedelta(days = 730)  \n",
    "    \n",
    "future_date_after_2days = ini_time_for_now + timedelta(days = 2)  \n",
    "    \n",
    "# printing calculated future_dates  \n",
    "print('future_date_after_2yrs:', str(future_date_after_2yrs))  \n",
    "print('future_date_after_2days:', str(future_date_after_2days)) "
   ]
  },
  {
   "cell_type": "code",
   "execution_count": 34,
   "metadata": {},
   "outputs": [
    {
     "name": "stdout",
     "output_type": "stream",
     "text": [
      "initial_date 2019-12-18 20:58:02.347335\n",
      "new_final_time 2019-12-20 20:58:02.347335\n",
      "Time difference: 2 days, 0:00:00\n"
     ]
    }
   ],
   "source": [
    "# Timedelta function demonstration   \n",
    "from datetime import datetime, timedelta  \n",
    "    \n",
    "# Using current time  \n",
    "ini_time_for_now = datetime.now()  \n",
    "    \n",
    "# printing initial_date  \n",
    "print (\"initial_date\", str(ini_time_for_now))  \n",
    "    \n",
    "# Some another datetime  \n",
    "new_final_time = ini_time_for_now + timedelta(days = 2)  \n",
    "    \n",
    "# printing new final_date  \n",
    "print (\"new_final_time\", str(new_final_time))  \n",
    "    \n",
    "    \n",
    "# printing calculated past_dates  \n",
    "print('Time difference:', str(new_final_time - ini_time_for_now)) "
   ]
  },
  {
   "cell_type": "markdown",
   "metadata": {},
   "source": [
    "##### TZINFO\n",
    "This is an abstract base class, meaning that this class should not be instantiated directly. An instance of (a concrete subclass of) tzinfo can be passed to the constructors for datetime and time objects. The latter objects view their attributes as being in local time, and the tzinfo object supports methods revealing offset of local time from UTC, the name of the time zone, and DST offset, all relative to a date or time object passed to them."
   ]
  },
  {
   "cell_type": "markdown",
   "metadata": {},
   "source": [
    "##### TIMEZONE\n",
    "The timezone class is a subclass of tzinfo, each instance of which represents a timezone defined by a fixed offset from UTC.\n",
    "class datetime.timezone(offset, name=None)\n",
    "The offset argument must be specified as a timedelta object representing the difference between the local time and UTC."
   ]
  },
  {
   "cell_type": "markdown",
   "metadata": {},
   "source": [
    "### Calendar module\n",
    "Python provides a calendar object that contains various methods to work with the calendars.\n",
    "\n",
    "The prcal() method of calendar module is used to print the calendar of the whole year. \n",
    "The year of which the calendar is to be printed must be passed into this method."
   ]
  },
  {
   "cell_type": "code",
   "execution_count": 12,
   "metadata": {},
   "outputs": [
    {
     "name": "stdout",
     "output_type": "stream",
     "text": [
      "   December 2018\n",
      "Mo Tu We Th Fr Sa Su\n",
      "                1  2\n",
      " 3  4  5  6  7  8  9\n",
      "10 11 12 13 14 15 16\n",
      "17 18 19 20 21 22 23\n",
      "24 25 26 27 28 29 30\n",
      "31\n",
      "\n"
     ]
    }
   ],
   "source": [
    "import calendar;  \n",
    "cal = calendar.month(2018,12)  \n",
    "#printing the calendar of December 2018  \n",
    "print(cal)  "
   ]
  },
  {
   "cell_type": "code",
   "execution_count": 13,
   "metadata": {},
   "outputs": [
    {
     "name": "stdout",
     "output_type": "stream",
     "text": [
      "                                  2019\n",
      "\n",
      "      January                   February                   March\n",
      "Mo Tu We Th Fr Sa Su      Mo Tu We Th Fr Sa Su      Mo Tu We Th Fr Sa Su\n",
      "    1  2  3  4  5  6                   1  2  3                   1  2  3\n",
      " 7  8  9 10 11 12 13       4  5  6  7  8  9 10       4  5  6  7  8  9 10\n",
      "14 15 16 17 18 19 20      11 12 13 14 15 16 17      11 12 13 14 15 16 17\n",
      "21 22 23 24 25 26 27      18 19 20 21 22 23 24      18 19 20 21 22 23 24\n",
      "28 29 30 31               25 26 27 28               25 26 27 28 29 30 31\n",
      "\n",
      "       April                      May                       June\n",
      "Mo Tu We Th Fr Sa Su      Mo Tu We Th Fr Sa Su      Mo Tu We Th Fr Sa Su\n",
      " 1  2  3  4  5  6  7             1  2  3  4  5                      1  2\n",
      " 8  9 10 11 12 13 14       6  7  8  9 10 11 12       3  4  5  6  7  8  9\n",
      "15 16 17 18 19 20 21      13 14 15 16 17 18 19      10 11 12 13 14 15 16\n",
      "22 23 24 25 26 27 28      20 21 22 23 24 25 26      17 18 19 20 21 22 23\n",
      "29 30                     27 28 29 30 31            24 25 26 27 28 29 30\n",
      "\n",
      "        July                     August                  September\n",
      "Mo Tu We Th Fr Sa Su      Mo Tu We Th Fr Sa Su      Mo Tu We Th Fr Sa Su\n",
      " 1  2  3  4  5  6  7                1  2  3  4                         1\n",
      " 8  9 10 11 12 13 14       5  6  7  8  9 10 11       2  3  4  5  6  7  8\n",
      "15 16 17 18 19 20 21      12 13 14 15 16 17 18       9 10 11 12 13 14 15\n",
      "22 23 24 25 26 27 28      19 20 21 22 23 24 25      16 17 18 19 20 21 22\n",
      "29 30 31                  26 27 28 29 30 31         23 24 25 26 27 28 29\n",
      "                                                    30\n",
      "\n",
      "      October                   November                  December\n",
      "Mo Tu We Th Fr Sa Su      Mo Tu We Th Fr Sa Su      Mo Tu We Th Fr Sa Su\n",
      "    1  2  3  4  5  6                   1  2  3                         1\n",
      " 7  8  9 10 11 12 13       4  5  6  7  8  9 10       2  3  4  5  6  7  8\n",
      "14 15 16 17 18 19 20      11 12 13 14 15 16 17       9 10 11 12 13 14 15\n",
      "21 22 23 24 25 26 27      18 19 20 21 22 23 24      16 17 18 19 20 21 22\n",
      "28 29 30 31               25 26 27 28 29 30         23 24 25 26 27 28 29\n",
      "                                                    30 31\n",
      "\n"
     ]
    }
   ],
   "source": [
    "calendar.prcal(2019)  "
   ]
  },
  {
   "cell_type": "code",
   "execution_count": 20,
   "metadata": {},
   "outputs": [
    {
     "name": "stdout",
     "output_type": "stream",
     "text": [
      "   September 2018\n",
      "Mo Tu We Th Fr Sa Su\n",
      "                1  2\n",
      " 3  4  5  6  7  8  9\n",
      "10 11 12 13 14 15 16\n",
      "17 18 19 20 21 22 23\n",
      "24 25 26 27 28 29 30\n",
      "\n"
     ]
    }
   ],
   "source": [
    "#formatmonth() method in Python is used to get month’s calendar in a multi-line string.\n",
    "text_cal = calendar.TextCalendar(firstweekday = 0) \n",
    "year = 2018\n",
    "month = 9\n",
    "print(text_cal.formatmonth(year, month)) "
   ]
  },
  {
   "cell_type": "code",
   "execution_count": 21,
   "metadata": {},
   "outputs": [
    {
     "data": {
      "text/plain": [
       "str"
      ]
     },
     "execution_count": 21,
     "metadata": {},
     "output_type": "execute_result"
    }
   ],
   "source": [
    "type(text_cal.formatmonth(year, month))"
   ]
  },
  {
   "cell_type": "code",
   "execution_count": 14,
   "metadata": {},
   "outputs": [
    {
     "name": "stdout",
     "output_type": "stream",
     "text": [
      "True\n",
      "False\n"
     ]
    }
   ],
   "source": [
    "# checking whether given year is leap or not \n",
    "print(calendar.isleap(2016)) \n",
    "print(calendar.isleap(2001)) "
   ]
  },
  {
   "cell_type": "code",
   "execution_count": 18,
   "metadata": {},
   "outputs": [
    {
     "name": "stdout",
     "output_type": "stream",
     "text": [
      "         April 2016\n",
      "\n",
      "Mon Tue Wed Thu Fri Sat Sun\n",
      "\n",
      "                  1   2   3\n",
      "\n",
      "  4   5   6   7   8   9  10\n",
      "\n",
      " 11  12  13  14  15  16  17\n",
      "\n",
      " 18  19  20  21  22  23  24\n",
      "\n",
      " 25  26  27  28  29  30\n",
      "\n"
     ]
    }
   ],
   "source": [
    "import calendar  \n",
    "year = 2016\n",
    "\n",
    "val = calendar.isleap(year) \n",
    " \n",
    "if val == True:  \n",
    "    calendar.prmonth(year, 4, 3, 2)  #(year,month, width_spaces, Lines_width)\n",
    "  \n",
    "# Returned False, year is not a leap \n",
    "else: \n",
    "    print(\"% s is not a leap year\" % year) "
   ]
  },
  {
   "cell_type": "markdown",
   "metadata": {},
   "source": [
    "# Regex Module"
   ]
  },
  {
   "cell_type": "markdown",
   "metadata": {},
   "source": [
    "##### Python Regular Expressions\n",
    "The regular expressions can be defined as the sequence of characters which are used to search for a pattern in a string. The module re provides the support to use regex in the python program. The re module throws an exception if there is some error while using the regular expression.\n",
    "\n",
    "The re module must be imported to use the regex functionalities in python.\n",
    "\n",
    "1\tmatch:\tThis method matches the regex pattern in the string with the optional flag. It returns true if a match is found in the string otherwise it returns false.\n",
    "\n",
    "2\tsearch:\tThis method returns the match object if there is a match found in the string.\n",
    "\n",
    "3\tfindall:\tIt returns a list that contains all the matches of a pattern in the string.\n",
    "\n",
    "4\tsplit:\tReturns a list in which the string has been split in each match.\n",
    "\n",
    "5\tsub:\tReplace one or many matches in the string."
   ]
  },
  {
   "cell_type": "raw",
   "metadata": {},
   "source": [
    "META-Characters: Character with specified meaning\n",
    "\n",
    "[]\tIt represents the set of characters.\t                             \"[a-z]\"\n",
    "\\\tIt represents the special sequence.\t                                 \"\\r\"\n",
    ".\tIt signals that any character is present at some specific place.\t \"Ja.v.\"\n",
    "^\tIt represents the pattern present at the beginning of the string.\t \"^Java\"\n",
    "$\tIt represents the pattern present at the end of the string.\t         \"point$\"\n",
    "*\tIt represents zero or more occurrences of a pattern in the string.\t \"hello*\"\n",
    "+\tIt represents one or more occurrences of a pattern in the string.\t \"hello+\"\n",
    "{}\tThe specified number of occurrences of a pattern the string.\t     \"java{2}\"\n",
    "|\tIt represents either this or that character is present.\t             \"java|point\"\n",
    "()\tEncloses a group of REs"
   ]
  },
  {
   "cell_type": "raw",
   "metadata": {},
   "source": [
    "Special sequences : sequences containing \\ followed by one of the characters.\n",
    "\n",
    "\\A\tIt returns a match if the specified characters are present at the beginning of the string.\n",
    "\\b\tIt returns a match if the specified characters are present at the beginning or the end of the string.\n",
    "\\B\tIt returns a match if the specified characters are present at the beginning of the string but not at the end.\n",
    "\\d\tIt returns a match if the string contains digits [0-9].\n",
    "\\D\tIt returns a match if the string doesn't contain the digits [0-9].\n",
    "\\s\tIt returns a match if the string contains any white space character.\n",
    "\\S\tIt returns a match if the string doesn't contain any white space character.\n",
    "\\w\tIt returns a match if the string contains any word characters.\n",
    "\\W\tIt returns a match if the string doesn't contain any word.\n",
    "\\Z\tReturns a match if the specified characters are at the end of the string."
   ]
  },
  {
   "cell_type": "raw",
   "metadata": {},
   "source": [
    "Sets\n",
    "A set is a group of characters given inside a pair of square brackets. It represents the special meaning.\n",
    "\n",
    "1\t[arn]\tReturns a match if the string contains any of the specified characters in the set.\n",
    "2\t[a-n]\tReturns a match if the string contains any of the characters between a to n.\n",
    "3\t[^arn]\tReturns a match if the string contains the characters except a, r, and n.\n",
    "4\t[0123]\tReturns a match if the string contains any of the specified digits.\n",
    "5\t[0-9]\tReturns a match if the string contains any digit between 0 and 9.\n",
    "6\t[0-5][0-9]\tReturns a match if the string contains any digit between 00 and 59.\n",
    "7\t[a-zA-Z]\tReturns a match if the string contains any alphabet (lower-case or upper-case)."
   ]
  },
  {
   "cell_type": "markdown",
   "metadata": {},
   "source": [
    "##### Compiling Regular Expressions\n",
    "Regular expressions are compiled into pattern objects, which have methods for various operations such as searching for pattern matches or performing string substitutions."
   ]
  },
  {
   "cell_type": "code",
   "execution_count": 3,
   "metadata": {},
   "outputs": [
    {
     "data": {
      "text/plain": [
       "re.compile(r'ab*', re.UNICODE)"
      ]
     },
     "execution_count": 3,
     "metadata": {},
     "output_type": "execute_result"
    }
   ],
   "source": [
    "import re\n",
    "p=re.compile('ab*')\n",
    "p"
   ]
  },
  {
   "cell_type": "code",
   "execution_count": 4,
   "metadata": {},
   "outputs": [
    {
     "data": {
      "text/plain": [
       "re.compile(r'ab*', re.IGNORECASE|re.UNICODE)"
      ]
     },
     "execution_count": 4,
     "metadata": {},
     "output_type": "execute_result"
    }
   ],
   "source": [
    "p = re.compile('ab*', re.IGNORECASE)\n",
    "p"
   ]
  },
  {
   "cell_type": "markdown",
   "metadata": {},
   "source": [
    "##### Performing matches"
   ]
  },
  {
   "cell_type": "raw",
   "metadata": {},
   "source": [
    "match(): Determine if the RE matches at the beginning of the string.\n",
    "\n",
    "search(): Scan through a string, looking for any location where this RE matches.\n",
    "\n",
    "findall(): Find all substrings where the RE matches, and returns them as a list.\n",
    "\n",
    "finditer(): Find all substrings where the RE matches, and returns them as an iterator.\n",
    "\n",
    "\n",
    "---> match() and search() return None if no match can be found. If they’re successful, a match object instance is returned, containing information about the match: where it starts and ends, the substring it matched, and more"
   ]
  },
  {
   "cell_type": "code",
   "execution_count": 6,
   "metadata": {},
   "outputs": [
    {
     "data": {
      "text/plain": [
       "re.compile(r'[a-z]+', re.UNICODE)"
      ]
     },
     "execution_count": 6,
     "metadata": {},
     "output_type": "execute_result"
    }
   ],
   "source": [
    "p = re.compile('[a-z]+')\n",
    "p"
   ]
  },
  {
   "cell_type": "code",
   "execution_count": 9,
   "metadata": {},
   "outputs": [
    {
     "name": "stdout",
     "output_type": "stream",
     "text": [
      "None\n"
     ]
    }
   ],
   "source": [
    "print(p.match(\"\"))"
   ]
  },
  {
   "cell_type": "code",
   "execution_count": 10,
   "metadata": {},
   "outputs": [
    {
     "name": "stdout",
     "output_type": "stream",
     "text": [
      "<_sre.SRE_Match object; span=(0, 6), match='python'>\n"
     ]
    }
   ],
   "source": [
    "print(p.match(\"python\"))"
   ]
  },
  {
   "cell_type": "raw",
   "metadata": {},
   "source": [
    "#Match object instances also have several methods and attributes; the most important ones are:\n",
    "\n",
    "group(): Return the string matched by the RE\n",
    "\n",
    "start(): Return the starting position of the match\n",
    "\n",
    "end(): Return the ending position of the match\n",
    "\n",
    "span(): Return a tuple containing the (start, end) positions of the match"
   ]
  },
  {
   "cell_type": "code",
   "execution_count": 20,
   "metadata": {},
   "outputs": [
    {
     "data": {
      "text/plain": [
       "'python'"
      ]
     },
     "execution_count": 20,
     "metadata": {},
     "output_type": "execute_result"
    }
   ],
   "source": [
    "m=p.match(\"python2 and python3\")\n",
    "m.group()"
   ]
  },
  {
   "cell_type": "code",
   "execution_count": 21,
   "metadata": {},
   "outputs": [
    {
     "data": {
      "text/plain": [
       "(0, 6)"
      ]
     },
     "execution_count": 21,
     "metadata": {},
     "output_type": "execute_result"
    }
   ],
   "source": [
    "m.start(), m.end()"
   ]
  },
  {
   "cell_type": "code",
   "execution_count": 22,
   "metadata": {},
   "outputs": [
    {
     "data": {
      "text/plain": [
       "(0, 6)"
      ]
     },
     "execution_count": 22,
     "metadata": {},
     "output_type": "execute_result"
    }
   ],
   "source": [
    "m.span()"
   ]
  },
  {
   "cell_type": "raw",
   "metadata": {},
   "source": [
    "Since the match() method only checks if the RE matches at the start of a string, start() will always be zero. However, the search() method of patterns scans through the string, so the match may not start at zero in that case."
   ]
  },
  {
   "cell_type": "code",
   "execution_count": 23,
   "metadata": {},
   "outputs": [
    {
     "name": "stdout",
     "output_type": "stream",
     "text": [
      "None\n"
     ]
    }
   ],
   "source": [
    "print(p.match('::: message'))"
   ]
  },
  {
   "cell_type": "code",
   "execution_count": 24,
   "metadata": {},
   "outputs": [
    {
     "name": "stdout",
     "output_type": "stream",
     "text": [
      "<_sre.SRE_Match object; span=(4, 11), match='message'>\n"
     ]
    }
   ],
   "source": [
    "m = p.search('::: message')\n",
    "print(m)"
   ]
  },
  {
   "cell_type": "code",
   "execution_count": 25,
   "metadata": {},
   "outputs": [
    {
     "data": {
      "text/plain": [
       "'message'"
      ]
     },
     "execution_count": 25,
     "metadata": {},
     "output_type": "execute_result"
    }
   ],
   "source": [
    "m.group()"
   ]
  },
  {
   "cell_type": "code",
   "execution_count": 26,
   "metadata": {},
   "outputs": [
    {
     "data": {
      "text/plain": [
       "(4, 11)"
      ]
     },
     "execution_count": 26,
     "metadata": {},
     "output_type": "execute_result"
    }
   ],
   "source": [
    "m.span()"
   ]
  },
  {
   "cell_type": "code",
   "execution_count": 38,
   "metadata": {},
   "outputs": [
    {
     "name": "stdout",
     "output_type": "stream",
     "text": [
      "Match found:  string\n"
     ]
    }
   ],
   "source": [
    "p = re.compile('[a-z]+')\n",
    "m = p.match( 'string goes here' )\n",
    "if m:\n",
    "    print('Match found: ', m.group())\n",
    "else:\n",
    "    print('No match')"
   ]
  },
  {
   "cell_type": "code",
   "execution_count": 29,
   "metadata": {},
   "outputs": [
    {
     "data": {
      "text/plain": [
       "['12', '11', '10']"
      ]
     },
     "execution_count": 29,
     "metadata": {},
     "output_type": "execute_result"
    }
   ],
   "source": [
    "#Two pattern methods return all of the matches for a pattern. findall() returns a list of matching strings:\n",
    "p = re.compile(r'\\d+')\n",
    "p.findall('12 drummers drumming, 11 pipers piping, 10 lords a-leaping')"
   ]
  },
  {
   "cell_type": "markdown",
   "metadata": {},
   "source": [
    "##### findall() has to create the entire list before it can be returned as the result. The finditer() method returns a sequence of match object instances as an iterator:"
   ]
  },
  {
   "cell_type": "code",
   "execution_count": 30,
   "metadata": {},
   "outputs": [
    {
     "data": {
      "text/plain": [
       "<callable_iterator at 0x7f4eb315a240>"
      ]
     },
     "execution_count": 30,
     "metadata": {},
     "output_type": "execute_result"
    }
   ],
   "source": [
    "iterator = p.finditer('12 drummers drumming, 11 ... 10 ...')\n",
    "iterator"
   ]
  },
  {
   "cell_type": "code",
   "execution_count": 31,
   "metadata": {},
   "outputs": [
    {
     "name": "stdout",
     "output_type": "stream",
     "text": [
      "(0, 2)\n",
      "(22, 24)\n",
      "(29, 31)\n"
     ]
    }
   ],
   "source": [
    "for match in iterator:\n",
    "    print(match.span())"
   ]
  },
  {
   "cell_type": "markdown",
   "metadata": {},
   "source": [
    "##### functions take the same arguments as the corresponding pattern method with the RE string added as the first argument, and still return either None or a match object instance."
   ]
  },
  {
   "cell_type": "code",
   "execution_count": 32,
   "metadata": {},
   "outputs": [
    {
     "name": "stdout",
     "output_type": "stream",
     "text": [
      "None\n"
     ]
    }
   ],
   "source": [
    "print(re.match(r'From\\s+', 'Fromage amk'))"
   ]
  },
  {
   "cell_type": "code",
   "execution_count": 35,
   "metadata": {},
   "outputs": [
    {
     "data": {
      "text/plain": [
       "'From '"
      ]
     },
     "execution_count": 35,
     "metadata": {},
     "output_type": "execute_result"
    }
   ],
   "source": [
    "re.match(r'From\\s+', 'From amk Thu May 14 19:12:10 1998').group()"
   ]
  },
  {
   "cell_type": "markdown",
   "metadata": {},
   "source": [
    "#### Compilation Flags¶\n",
    "Compilation flags let you modify some aspects of how regular expressions work. Flags are available in the re module under two names, a long name such as IGNORECASE and a short, one-letter form such as I"
   ]
  },
  {
   "cell_type": "raw",
   "metadata": {},
   "source": [
    "ASCII, A : Makes several escapes like \\w, \\b, \\s and \\d match only on ASCII characters with the respective property.\n",
    "\n",
    "DOTALL, S : Make . match any character, including newlines.\n",
    "\n",
    "IGNORECASE, I : Do case-insensitive matches.\n",
    "\n",
    "LOCALE, L : Do a locale-aware match.\n",
    "\n",
    "MULTILINE, M : Multi-line matching, affecting ^ and $.\n",
    "\n",
    "VERBOSE, X (for ‘extended’) : Enable verbose REs, which can be organized more cleanly and understandably."
   ]
  },
  {
   "cell_type": "code",
   "execution_count": 42,
   "metadata": {},
   "outputs": [
    {
     "name": "stdout",
     "output_type": "stream",
     "text": [
      "<_sre.SRE_Match object; span=(0, 4), match='From'>\n"
     ]
    }
   ],
   "source": [
    "print(re.search('^From', 'From Here to Eternity'))"
   ]
  },
  {
   "cell_type": "code",
   "execution_count": 43,
   "metadata": {},
   "outputs": [
    {
     "name": "stdout",
     "output_type": "stream",
     "text": [
      "None\n"
     ]
    }
   ],
   "source": [
    "print(re.search('^From', 'Reciting From Memory'))"
   ]
  },
  {
   "cell_type": "code",
   "execution_count": 46,
   "metadata": {},
   "outputs": [
    {
     "name": "stdout",
     "output_type": "stream",
     "text": [
      "<_sre.SRE_Match object; span=(6, 7), match='}'>\n"
     ]
    }
   ],
   "source": [
    " print(re.search('}$', '{block}'))"
   ]
  },
  {
   "cell_type": "code",
   "execution_count": 47,
   "metadata": {},
   "outputs": [
    {
     "name": "stdout",
     "output_type": "stream",
     "text": [
      "None\n"
     ]
    }
   ],
   "source": [
    "print(re.search('}$', '{block} '))"
   ]
  },
  {
   "cell_type": "markdown",
   "metadata": {},
   "source": [
    "##### Modifying Strings\n",
    "Up to this point, we’ve simply performed searches against a static string. Regular expressions are also commonly used to modify strings in various ways, using the following pattern methods:\n",
    "\n",
    "split():Split the string into a list, splitting it wherever the RE matches\n",
    "\n",
    "sub():Find all substrings where the RE matches, and replace them with a different string\n",
    "\n",
    "subn():Does the same thing as sub(), but returns the new string and the number of replacements"
   ]
  },
  {
   "cell_type": "code",
   "execution_count": 48,
   "metadata": {},
   "outputs": [
    {
     "data": {
      "text/plain": [
       "['This', 'is', 'a', 'test', 'short', 'and', 'sweet', 'of', 'split', '']"
      ]
     },
     "execution_count": 48,
     "metadata": {},
     "output_type": "execute_result"
    }
   ],
   "source": [
    "p = re.compile(r'\\W+')\n",
    "p.split('This is a test, short and sweet, of split().')"
   ]
  },
  {
   "cell_type": "code",
   "execution_count": 50,
   "metadata": {},
   "outputs": [
    {
     "data": {
      "text/plain": [
       "['This', 'is', 'a', 'test, short and sweet, of split().']"
      ]
     },
     "execution_count": 50,
     "metadata": {},
     "output_type": "execute_result"
    }
   ],
   "source": [
    "p.split('This is a test, short and sweet, of split().', 3) #3+1=4 splits"
   ]
  },
  {
   "cell_type": "code",
   "execution_count": 52,
   "metadata": {},
   "outputs": [
    {
     "name": "stdout",
     "output_type": "stream",
     "text": [
      "['This', 'is', 'a', 'test', '']\n"
     ]
    },
    {
     "data": {
      "text/plain": [
       "['This', '... ', 'is', ' ', 'a', ' ', 'test', '.', '']"
      ]
     },
     "execution_count": 52,
     "metadata": {},
     "output_type": "execute_result"
    }
   ],
   "source": [
    "p = re.compile(r'\\W+')\n",
    "p2 = re.compile(r'(\\W+)')\n",
    "print(p.split('This... is a test.'))\n",
    "p2.split('This... is a test.')"
   ]
  },
  {
   "cell_type": "code",
   "execution_count": 53,
   "metadata": {},
   "outputs": [
    {
     "data": {
      "text/plain": [
       "'colour socks and colour shoes'"
      ]
     },
     "execution_count": 53,
     "metadata": {},
     "output_type": "execute_result"
    }
   ],
   "source": [
    "p = re.compile('(blue|white|red)')\n",
    "p.sub('colour', 'blue socks and red shoes')"
   ]
  },
  {
   "cell_type": "code",
   "execution_count": 54,
   "metadata": {},
   "outputs": [
    {
     "data": {
      "text/plain": [
       "'colour socks and red shoes'"
      ]
     },
     "execution_count": 54,
     "metadata": {},
     "output_type": "execute_result"
    }
   ],
   "source": [
    "p.sub('colour', 'blue socks and red shoes', count=1)"
   ]
  },
  {
   "cell_type": "code",
   "execution_count": 55,
   "metadata": {},
   "outputs": [
    {
     "data": {
      "text/plain": [
       "('colour socks and colour shoes', 2)"
      ]
     },
     "execution_count": 55,
     "metadata": {},
     "output_type": "execute_result"
    }
   ],
   "source": [
    "p = re.compile('(blue|white|red)')\n",
    "p.subn('colour', 'blue socks and red shoes')"
   ]
  },
  {
   "cell_type": "code",
   "execution_count": 56,
   "metadata": {},
   "outputs": [
    {
     "data": {
      "text/plain": [
       "('no colours at all', 0)"
      ]
     },
     "execution_count": 56,
     "metadata": {},
     "output_type": "execute_result"
    }
   ],
   "source": [
    "p.subn('colour', 'no colours at all')"
   ]
  },
  {
   "cell_type": "code",
   "execution_count": 61,
   "metadata": {},
   "outputs": [
    {
     "data": {
      "text/plain": [
       "'ab-d'"
      ]
     },
     "execution_count": 61,
     "metadata": {},
     "output_type": "execute_result"
    }
   ],
   "source": [
    "p = re.compile('x+')\n",
    "p.sub('-', 'abxxxd')"
   ]
  },
  {
   "cell_type": "code",
   "execution_count": null,
   "metadata": {},
   "outputs": [],
   "source": []
  }
 ],
 "metadata": {
  "kernelspec": {
   "display_name": "Python 3",
   "language": "python",
   "name": "python3"
  },
  "language_info": {
   "codemirror_mode": {
    "name": "ipython",
    "version": 3
   },
   "file_extension": ".py",
   "mimetype": "text/x-python",
   "name": "python",
   "nbconvert_exporter": "python",
   "pygments_lexer": "ipython3",
   "version": "3.9.4"
  }
 },
 "nbformat": 4,
 "nbformat_minor": 2
}
