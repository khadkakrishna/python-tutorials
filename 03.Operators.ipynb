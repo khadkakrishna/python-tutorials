{
 "cells": [
  {
   "cell_type": "markdown",
   "metadata": {},
   "source": [
    "# OPERATORS\n",
    "* Operators types\n",
    "* difference between ~ and not\n",
    "* ternary operator in python\n",
    "* operator overloading in python(magic methods)\n",
    "* Any and All functions (and, or)\n",
    "* Operator Functions in Python\n",
    "* in-place operators\n",
    "* a+=b vs a=a+b (inplace)\n",
    "* difference between is and == \n",
    "* Python Membership  and identity operator\n"
   ]
  },
  {
   "cell_type": "markdown",
   "metadata": {},
   "source": [
    "### OPERATORS: types\n",
    "* Arithmetic: +, -, \\*, /, %, //, \\*\\*\n",
    "* Relational: >, <, ==, >=, <=, !=\n",
    "* Logical: or, and, not\n",
    "* Bitwise: ~, |, &, ^, >>, <<\n",
    "* Assignment: +=, -=, \\*=, /=, \\*\\*=, %=, //=, |=, &= , ^=, >>=, <<=\n",
    "* Special Operator:\n",
    "    * Identity: is, is not\n",
    "    * Membership: in, not in"
   ]
  },
  {
   "cell_type": "code",
   "execution_count": 2,
   "metadata": {},
   "outputs": [
    {
     "name": "stdout",
     "output_type": "stream",
     "text": [
      "False\n",
      "-2\n",
      "<class 'int'>\n"
     ]
    }
   ],
   "source": [
    "#bitwise not(~) vs 'not'\n",
    "\"\"\"\n",
    "The bitwise not operator ~ returns the complement of a number \n",
    "i.e., it switches each 1 to 0 and each 0 to 1. Booleans True and False have values 1 and 0 respectively.\n",
    "\"\"\"\n",
    "a = not True\n",
    "print(a)\n",
    "a = ~True\n",
    "print(a)\n",
    "print(type(a))\n"
   ]
  },
  {
   "cell_type": "markdown",
   "metadata": {},
   "source": [
    "#### Program to demonstrate ternary operator "
   ]
  },
  {
   "cell_type": "code",
   "execution_count": 3,
   "metadata": {},
   "outputs": [
    {
     "name": "stdout",
     "output_type": "stream",
     "text": [
      "10\n"
     ]
    }
   ],
   "source": [
    "a, b = 10, 20\n",
    "# Copy value of a in min if a < b else copy b \n",
    "min = a if a < b else b \n",
    "print(min) "
   ]
  },
  {
   "cell_type": "code",
   "execution_count": 4,
   "metadata": {},
   "outputs": [
    {
     "name": "stdout",
     "output_type": "stream",
     "text": [
      "b is greater than a\n"
     ]
    }
   ],
   "source": [
    "a, b = 10, 20\n",
    "  \n",
    "print (\"Both a and b are equal\" if a == b else \"a is greater than b\"\n",
    "        if a > b else \"b is greater than a\") "
   ]
  },
  {
   "cell_type": "code",
   "execution_count": 5,
   "metadata": {},
   "outputs": [
    {
     "name": "stdout",
     "output_type": "stream",
     "text": [
      "10\n"
     ]
    }
   ],
   "source": [
    "a, b = 10, 20\n",
    "# If a is less than b, then a is assigned \n",
    "# else b is assigned (Note : it doesn't  \n",
    "# work if a is 0.\n",
    "min = a < b and a or b \n",
    "print(min) "
   ]
  },
  {
   "cell_type": "code",
   "execution_count": 6,
   "metadata": {},
   "outputs": [
    {
     "data": {
      "text/plain": [
       "2.5"
      ]
     },
     "execution_count": 6,
     "metadata": {},
     "output_type": "execute_result"
    }
   ],
   "source": [
    "5/2"
   ]
  },
  {
   "cell_type": "code",
   "execution_count": 7,
   "metadata": {},
   "outputs": [
    {
     "data": {
      "text/plain": [
       "0.3333333333333333"
      ]
     },
     "execution_count": 7,
     "metadata": {},
     "output_type": "execute_result"
    }
   ],
   "source": [
    "3/9"
   ]
  },
  {
   "cell_type": "code",
   "execution_count": 8,
   "metadata": {},
   "outputs": [
    {
     "data": {
      "text/plain": [
       "1"
      ]
     },
     "execution_count": 8,
     "metadata": {},
     "output_type": "execute_result"
    }
   ],
   "source": [
    "2**0\n"
   ]
  },
  {
   "cell_type": "code",
   "execution_count": 9,
   "metadata": {},
   "outputs": [
    {
     "data": {
      "text/plain": [
       "1"
      ]
     },
     "execution_count": 9,
     "metadata": {},
     "output_type": "execute_result"
    }
   ],
   "source": [
    "0**0"
   ]
  },
  {
   "cell_type": "code",
   "execution_count": 10,
   "metadata": {},
   "outputs": [
    {
     "data": {
      "text/plain": [
       "512"
      ]
     },
     "execution_count": 10,
     "metadata": {},
     "output_type": "execute_result"
    }
   ],
   "source": [
    "2**3**2**1"
   ]
  },
  {
   "cell_type": "markdown",
   "metadata": {},
   "source": [
    "### Operator Overloading"
   ]
  },
  {
   "cell_type": "code",
   "execution_count": 12,
   "metadata": {},
   "outputs": [
    {
     "name": "stdout",
     "output_type": "stream",
     "text": [
      "3\n",
      "krishnakhadka\n"
     ]
    }
   ],
   "source": [
    "# Python Program illustrate how  \n",
    "# to overload an binary + operator \n",
    "  \n",
    "class A: \n",
    "    def __init__(self, a): \n",
    "        self.a = a \n",
    "  \n",
    "    # adding two objects  \n",
    "    def __add__(self, o): \n",
    "        return self.a + o.a  \n",
    "ob1 = A(1) \n",
    "ob2 = A(2) \n",
    "ob3 = A(\"krishna\") \n",
    "ob4 = A(\"khadka\") \n",
    "  \n",
    "print(ob1 + ob2) \n",
    "print(ob3 + ob4)"
   ]
  },
  {
   "cell_type": "code",
   "execution_count": 12,
   "metadata": {},
   "outputs": [
    {
     "name": "stdout",
     "output_type": "stream",
     "text": [
      "(3, 5)\n"
     ]
    }
   ],
   "source": [
    "# Python Program to perform addition  \n",
    "# of two complex numbers using binary  \n",
    "# + operator overloading. \n",
    "  \n",
    "class complex: \n",
    "    def __init__(self, a, b): \n",
    "        self.a = a \n",
    "        self.b = b \n",
    "  \n",
    "     # adding two objects  \n",
    "    def __add__(self, other): \n",
    "        return self.a + other.a, self.b + other.b \n",
    "  \n",
    "    def __str__(self): \n",
    "        return self.a, self.b \n",
    "  \n",
    "Ob1 = complex(1, 2) \n",
    "Ob2 = complex(2, 3) \n",
    "Ob3 = Ob1 + Ob2 \n",
    "print(Ob3) "
   ]
  },
  {
   "cell_type": "code",
   "execution_count": 13,
   "metadata": {},
   "outputs": [
    {
     "name": "stdout",
     "output_type": "stream",
     "text": [
      "ob2 is greater than ob1\n"
     ]
    }
   ],
   "source": [
    "# Python program to overload \n",
    "# a comparison operators  \n",
    "  \n",
    "class A: \n",
    "    def __init__(self, a): \n",
    "        self.a = a \n",
    "    def __gt__(self, other): \n",
    "        if(self.a>other.a): \n",
    "            return True\n",
    "        else: \n",
    "            return False\n",
    "ob1 = A(2) \n",
    "ob2 = A(3) \n",
    "if(ob1>ob2): \n",
    "    print(\"ob1 is greater than ob2\") \n",
    "else: \n",
    "    print(\"ob2 is greater than ob1\") "
   ]
  },
  {
   "cell_type": "code",
   "execution_count": 13,
   "metadata": {},
   "outputs": [
    {
     "name": "stdout",
     "output_type": "stream",
     "text": [
      "ob1 is less than ob2\n",
      "Not equal\n"
     ]
    }
   ],
   "source": [
    "# Python program to overload equality \n",
    "# and less than operators \n",
    "  \n",
    "class A: \n",
    "    def __init__(self, a): \n",
    "        self.a = a \n",
    "    def __lt__(self, other): \n",
    "        if(self.a<other.a): \n",
    "            return \"ob1 is less than ob2\"\n",
    "        else: \n",
    "            return \"ob2 is less than ob1\"\n",
    "    def __eq__(self, other): \n",
    "        if(self.a == other.a): \n",
    "            return \"Both are equal\"\n",
    "        else: \n",
    "            return \"Not equal\"\n",
    "                  \n",
    "ob1 = A(2) \n",
    "ob2 = A(3) \n",
    "print(ob1 < ob2) \n",
    "  \n",
    "ob3 = A(4) \n",
    "ob4 = A(4) \n",
    "print(ob1 == ob2) "
   ]
  },
  {
   "cell_type": "markdown",
   "metadata": {},
   "source": [
    "#### Operators that are available for overloading:\n",
    "*Binary Operator*\n",
    "* \\+ __add__(self, other)\n",
    "* –\t__sub__(self, other)\n",
    "* \\*\t__mul__(self, other)\n",
    "* /\t__truediv__(self, other)\n",
    "* //\t__floordiv__(self, other)\n",
    "* %\t__mod__(self, other)\n",
    "* \\*\\*\t__pow__(self, other)\n",
    "\n",
    "*Comparison Operator*\n",
    "* <\t__lt__(self, other)\n",
    "* \\>\t__gt__(self, other)\n",
    "* <=\t__le__(self, other)\n",
    "* \\>=\t__ge__(self, other)\n",
    "* ==\t__eq__(self, other)\n",
    "* !=\t__ne__(self, other)\n",
    "\n",
    "*Assignment Operators*\n",
    "* -=\t__isub__(self, other)\n",
    "* \\+=\t__iadd__(self, other)\n",
    "* \\*=\t__imul__(self, other)\n",
    "* /=\t__idiv__(self, other)\n",
    "* //=\t__ifloordiv__(self, other)\n",
    "* %=\t__imod__(self, other)\n",
    "* \\*\\*=\t__ipow__(self, other)\n",
    "\n",
    "*Unary Operator*\n",
    "* –\t__neg__(self, other)\n",
    "* \\+\t__pos__(self, other)\n",
    "* ~\t__invert__(self, other)"
   ]
  },
  {
   "cell_type": "markdown",
   "metadata": {},
   "source": [
    "### all / any functions\n",
    "* Any: Returns true if any of the items is True. It returns False if empty or all are false. Any can be thought of as a sequence of OR operations on the provided iterables.\n",
    "* All: Returns true if all of the items are True (or if the iterable is empty). All can be thought of as a sequence of AND operations on the provided iterables. I"
   ]
  },
  {
   "cell_type": "code",
   "execution_count": 14,
   "metadata": {},
   "outputs": [
    {
     "name": "stdout",
     "output_type": "stream",
     "text": [
      "False\n",
      "True\n"
     ]
    }
   ],
   "source": [
    "# Since all are false, false is returned \n",
    "print (any([False, False, False, False])) \n",
    "  \n",
    "# Here the method will short-circuit at the \n",
    "# second item (True) and will return True. \n",
    "print (any([False, True, False, False])) "
   ]
  },
  {
   "cell_type": "code",
   "execution_count": 15,
   "metadata": {},
   "outputs": [
    {
     "name": "stdout",
     "output_type": "stream",
     "text": [
      "True\n",
      "False\n"
     ]
    }
   ],
   "source": [
    "# Here all the iterables are True so all \n",
    "# will return True and the same will be printed \n",
    "print (all([True, True, True, True])) \n",
    "  \n",
    "# Here the method will short-circuit at the  \n",
    "# first item (False) and will return False. \n",
    "print (all([False, True, True, False])) \n",
    "  "
   ]
  },
  {
   "cell_type": "markdown",
   "metadata": {},
   "source": [
    "### Operator Functions in Python\n"
   ]
  },
  {
   "cell_type": "code",
   "execution_count": 16,
   "metadata": {},
   "outputs": [
    {
     "name": "stdout",
     "output_type": "stream",
     "text": [
      "The addition of numbers is :7\n",
      "The difference of numbers is :1\n",
      "The product of numbers is :12\n",
      "The true division of numbers is : 1.3333333333333333\n",
      "The floor division of numbers is : 1\n",
      "The exponentiation of numbers is : 64\n",
      "The modulus of numbers is : 1\n",
      "3 is not less than 3\n",
      "3 is not less than or equal to 3\n",
      "3 is not equal to 3\n",
      "4 is greater than 3\n",
      "4 is greater than or equal to 3\n",
      "4 is not equal to 3\n"
     ]
    }
   ],
   "source": [
    "import operator \n",
    "  \n",
    "# Initializing variables \n",
    "a = 4\n",
    "  \n",
    "b = 3\n",
    "  \n",
    "# using add() to add two numbers \n",
    "print (\"The addition of numbers is :\",end=\"\"); \n",
    "print (operator.add(a, b)) \n",
    "  \n",
    "# using sub() to subtract two numbers \n",
    "print (\"The difference of numbers is :\",end=\"\"); \n",
    "print (operator.sub(a, b)) \n",
    "  \n",
    "# using mul() to multiply two numbers \n",
    "print (\"The product of numbers is :\",end=\"\"); \n",
    "print (operator.mul(a, b)) \n",
    "\n",
    "# using truediv() to divide two numbers \n",
    "print (\"The true division of numbers is : \",end=\"\"); \n",
    "print (operator.truediv(a,b)) \n",
    "  \n",
    "# using floordiv() to divide two numbers \n",
    "print (\"The floor division of numbers is : \",end=\"\"); \n",
    "print (operator.floordiv(a,b)) \n",
    "  \n",
    "# using pow() to exponentiate two numbers \n",
    "print (\"The exponentiation of numbers is : \",end=\"\"); \n",
    "print (operator.pow(a,b)) \n",
    "  \n",
    "# using mod() to take modulus of two numbers \n",
    "print (\"The modulus of numbers is : \",end=\"\"); \n",
    "print (operator.mod(a,b)) \n",
    "\n",
    "# using lt() to check if a is less than b \n",
    "if(operator.lt(a,b)): \n",
    "       print (\"3 is less than 3\") \n",
    "else : print (\"3 is not less than 3\") \n",
    "\n",
    "# using le() to check if a is less than or equal to b \n",
    "if(operator.le(a,b)): \n",
    "       print (\"3 is less than or equal to 3\") \n",
    "else : print (\"3 is not less than or equal to 3\") \n",
    "\n",
    "    \n",
    "# using eq() to check if a is equal to b \n",
    "if (operator.eq(a,b)): \n",
    "       print (\"3 is equal to 3\") \n",
    "else : print (\"3 is not equal to 3\") \n",
    "    \n",
    "# using gt() to check if a is greater than b \n",
    "if (operator.gt(a,b)): \n",
    "       print (\"4 is greater than 3\") \n",
    "else : print (\"4 is not greater than 3\") \n",
    "\n",
    "# using ge() to check if a is greater than or equal to b \n",
    "if (operator.ge(a,b)): \n",
    "       print (\"4 is greater than or equal to 3\") \n",
    "else : print (\"4 is not greater than or equal to 3\") \n",
    "\n",
    "# using ne() to check if a is not equal to b \n",
    "if (operator.ne(a,b)): \n",
    "       print (\"4 is not equal to 3\") \n",
    "else : print (\"4 is equal to 3\") "
   ]
  },
  {
   "cell_type": "code",
   "execution_count": 18,
   "metadata": {},
   "outputs": [
    {
     "name": "stdout",
     "output_type": "stream",
     "text": [
      "The original list is : 1 5 6 7 8 \r\n",
      "The modified list after setitem() is : 1 5 6 3 8 \r\n",
      "The modified list after delitem() is : 1 6 3 8 \r\n",
      "The 4th element of list is : 8\n"
     ]
    }
   ],
   "source": [
    "# Initializing list \n",
    "li = [1, 5, 6, 7, 8] \n",
    "  \n",
    "# printing original list  \n",
    "print (\"The original list is : \",end=\"\") \n",
    "for i in range(0,len(li)): \n",
    "    print (li[i],end=\" \") \n",
    "print (\"\\r\") \n",
    "  \n",
    "# using setitem() to assign 3 at 4th position \n",
    "operator.setitem(li,3,3) \n",
    "  \n",
    "# printing modified list after setitem() \n",
    "print (\"The modified list after setitem() is : \",end=\"\") \n",
    "for i in range(0,len(li)): \n",
    "    print (li[i],end=\" \") \n",
    "print (\"\\r\") \n",
    "  \n",
    "# using delitem() to delete value at 2nd index \n",
    "operator.delitem(li,1) \n",
    "  \n",
    "# printing modified list after delitem() \n",
    "print (\"The modified list after delitem() is : \",end=\"\") \n",
    "for i in range(0,len(li)): \n",
    "    print (li[i],end=\" \") \n",
    "print (\"\\r\") \n",
    "  \n",
    "# using getitem() to access 4th element \n",
    "print (\"The 4th element of list is : \",end=\"\") \n",
    "print (operator.getitem(li,3)) "
   ]
  },
  {
   "cell_type": "code",
   "execution_count": 17,
   "metadata": {},
   "outputs": [
    {
     "name": "stdout",
     "output_type": "stream",
     "text": [
      "The original list is : 1 5 6 7 8 \n",
      "The modified list after setitem() is : 1 2 3 4 8 \n",
      "The modified list after delitem() is : 1 2 8 \n",
      "The 1st and 2nd element of list is : [1, 2]\n"
     ]
    }
   ],
   "source": [
    "# Initializing list \n",
    "li = [1, 5, 6, 7, 8] \n",
    "  \n",
    "# printing original list  \n",
    "print (\"The original list is : \",end=\"\") \n",
    "for i in range(0,len(li)): \n",
    "    print (li[i],end=\" \") \n",
    "print (\"\\r\") \n",
    "  \n",
    "# using setitem() to assign 2,3,4 at 2nd,3rd and 4th index \n",
    "operator.setitem(li,slice(1,4),[2,3,4]) \n",
    "  \n",
    "# printing modified list after setitem() \n",
    "print (\"The modified list after setitem() is : \",end=\"\") \n",
    "for i in range(0,len(li)): \n",
    "    print (li[i],end=\" \") \n",
    "print (\"\\r\") \n",
    "  \n",
    "# using delitem() to delete value at 3rd and 4th index \n",
    "operator.delitem(li,slice(2,4)) \n",
    "  \n",
    "# printing modified list after delitem() \n",
    "print (\"The modified list after delitem() is : \",end=\"\") \n",
    "for i in range(0,len(li)): \n",
    "    print (li[i],end=\" \") \n",
    "print (\"\\r\") \n",
    "  \n",
    "# using getitem() to access 1st and 2nd element \n",
    "print (\"The 1st and 2nd element of list is : \",end=\"\") \n",
    "print (operator.getitem(li,slice(0,2))) "
   ]
  },
  {
   "cell_type": "code",
   "execution_count": 18,
   "metadata": {},
   "outputs": [
    {
     "name": "stdout",
     "output_type": "stream",
     "text": [
      "The concatenated string is : geeksforgeeks\n",
      "geeksfor contains geeks\n"
     ]
    }
   ],
   "source": [
    "# importing operator module  \n",
    "import operator \n",
    "  \n",
    "# Initializing string 1 \n",
    "s1 = \"geeksfor\"\n",
    "  \n",
    "# Initializing string 2 \n",
    "s2 = \"geeks\"\n",
    "  \n",
    "# using concat() to concatenate two strings \n",
    "print (\"The concatenated string is : \",end=\"\") \n",
    "print (operator.concat(s1,s2)) \n",
    "  \n",
    "# using contains() to check if s1 contains s2 \n",
    "if (operator.contains(s1,s2)): \n",
    "       print (\"geeksfor contains geeks\") \n",
    "else : print (\"geeksfor does not contain geeks\") "
   ]
  },
  {
   "cell_type": "code",
   "execution_count": 19,
   "metadata": {},
   "outputs": [
    {
     "name": "stdout",
     "output_type": "stream",
     "text": [
      "The bitwise and of a and b is : 0\n",
      "The bitwise or of a and b is : 1\n",
      "The bitwise xor of a and b is : 1\n",
      "The inverted value of a is : 1\n"
     ]
    }
   ],
   "source": [
    "# Initializing a and b \n",
    "  \n",
    "a = 1\n",
    "  \n",
    "b = 0\n",
    "  \n",
    "# using and_() to display bitwise and operation \n",
    "print (\"The bitwise and of a and b is : \",end=\"\") \n",
    "print (operator.and_(a,b)) \n",
    "  \n",
    "# using or_() to display bitwise or operation \n",
    "print (\"The bitwise or of a and b is : \",end=\"\") \n",
    "print (operator.or_(a,b)) \n",
    "  \n",
    "# using xor() to display bitwise exclusive or operation \n",
    "print (\"The bitwise xor of a and b is : \",end=\"\") \n",
    "print (operator.xor(a,b)) \n",
    "  \n",
    "# using invert() to invert value of a \n",
    "operator.invert(a) \n",
    "  \n",
    "# printing modified value \n",
    "print (\"The inverted value of a is : \",end=\"\") \n",
    "print (a) "
   ]
  },
  {
   "cell_type": "markdown",
   "metadata": {},
   "source": [
    "### INPLACE operators in Python\n",
    "x += y is equivalent to x = operator.iadd(x, y) \n"
   ]
  },
  {
   "cell_type": "code",
   "execution_count": 20,
   "metadata": {},
   "outputs": [
    {
     "name": "stdout",
     "output_type": "stream",
     "text": [
      "The value after adding and assigning : 5\n",
      "The string after concatenation is : geeksforgeeks\n",
      "The value after subtracting and assigning : -1\n",
      "The value after multiplying and assigning : 6\n",
      "The value after dividing and assigning : 2.0\n",
      "The value after modulus and assigning : 4\n",
      "The value after xoring and assigning : 15\n",
      "The value after exponentiating and assigning : 625\n",
      "The value after bitwise or, and assigning : 15\n",
      "The value after bitwise and, and assigning : 4\n",
      "The value after bitwise left shift and assigning : 32\n",
      "The value after bitwise right shift and assigning : 2\n"
     ]
    }
   ],
   "source": [
    "import operator \n",
    "  \n",
    "# using iadd() to add and assign value \n",
    "x = operator.iadd(2, 3); \n",
    "  \n",
    "# printing the modified value \n",
    "print (\"The value after adding and assigning : \", end=\"\") \n",
    "print (x) \n",
    "  \n",
    "# initializing values \n",
    "y = \"geeks\"\n",
    "  \n",
    "z = \"forgeeks\"\n",
    "  \n",
    "# using iconcat() to concat the sequences \n",
    "y = operator.iconcat(y, z) \n",
    "  \n",
    "# using iconcat() to concat sequences  \n",
    "print (\"The string after concatenation is : \", end=\"\") \n",
    "print (y)\n",
    "\n",
    "# using isub() to subtract and assign value \n",
    "x = operator.isub(2, 3); \n",
    "  \n",
    "# printing the modified value \n",
    "print (\"The value after subtracting and assigning : \", end=\"\") \n",
    "print (x) \n",
    "  \n",
    "# using imul() to multiply and assign value \n",
    "x = operator.imul(2, 3); \n",
    "  \n",
    "# printing the modified value \n",
    "print (\"The value after multiplying and assigning : \", end=\"\") \n",
    "print (x) \n",
    "\n",
    "# using itruediv() to divide and assign value \n",
    "x = operator.itruediv(10, 5); \n",
    "  \n",
    "# printing the modified value \n",
    "print (\"The value after dividing and assigning : \", end=\"\") \n",
    "print (x) \n",
    "  \n",
    "# using imod() to modulus and assign value \n",
    "x = operator.imod(10, 6); \n",
    "  \n",
    "# printing the modified value \n",
    "print (\"The value after modulus and assigning : \", end=\"\") \n",
    "print (x) \n",
    "\n",
    "# using ixor() to exclusive or and assign value \n",
    "x = operator.ixor(10,5); \n",
    "  \n",
    "# printing the modified value \n",
    "print (\"The value after xoring and assigning : \",end=\"\") \n",
    "print (x) \n",
    "  \n",
    "# using ipow() to exponentiate and assign value \n",
    "x = operator.ipow(5,4); \n",
    "  \n",
    "# printing the modified value \n",
    "print (\"The value after exponentiating and assigning : \",end=\"\") \n",
    "print (x) \n",
    "\n",
    "# using ior() to or, and assign value \n",
    "x = operator.ior(10,5); \n",
    "  \n",
    "# printing the modified value \n",
    "print (\"The value after bitwise or, and assigning : \",end=\"\") \n",
    "print (x) \n",
    "  \n",
    "# using iand() to and, and assign value \n",
    "x = operator.iand(5,4); \n",
    "  \n",
    "# printing the modified value \n",
    "print (\"The value after bitwise and, and assigning : \",end=\"\") \n",
    "print (x) \n",
    "\n",
    "# using ilshift() to bitwise left shift and assign value \n",
    "x = operator.ilshift(8,2); \n",
    "  \n",
    "# printing the modified value \n",
    "print (\"The value after bitwise left shift and assigning : \",end=\"\") \n",
    "print (x) \n",
    "  \n",
    "# using irshift() to bitwise right shift and assign value \n",
    "x = operator.irshift(8,2); \n",
    "  \n",
    "# printing the modified value \n",
    "print (\"The value after bitwise right shift and assigning : \",end=\"\") \n",
    "print (x) "
   ]
  },
  {
   "cell_type": "markdown",
   "metadata": {},
   "source": [
    "#### a+=b vs a=a+b (inplace)"
   ]
  },
  {
   "cell_type": "code",
   "execution_count": 25,
   "metadata": {},
   "outputs": [
    {
     "name": "stdout",
     "output_type": "stream",
     "text": [
      "[5, 4, 3, 2, 1] 4419454272\n",
      "[5, 4, 3, 2, 1] 4419454272\n",
      "[5, 4, 3, 2, 1, 1, 2, 3, 4] 4419454272\n",
      "[5, 4, 3, 2, 1, 1, 2, 3, 4] 4419454272\n"
     ]
    }
   ],
   "source": [
    "list1 = [5, 4, 3, 2, 1] \n",
    "list2 = list1 \n",
    "print(list1, id(list1)) \n",
    "print(list2, id(list2)) \n",
    "list1 += [1, 2, 3, 4] \n",
    "print(list1, id(list1)) \n",
    "print(list2, id(list2)) "
   ]
  },
  {
   "cell_type": "code",
   "execution_count": 26,
   "metadata": {},
   "outputs": [
    {
     "name": "stdout",
     "output_type": "stream",
     "text": [
      "[5, 4, 3, 2, 1] 4419454336\n",
      "[5, 4, 3, 2, 1] 4419454336\n",
      "[5, 4, 3, 2, 1, 1, 2, 3, 4] 4419454208\n",
      "[5, 4, 3, 2, 1] 4419454336\n"
     ]
    }
   ],
   "source": [
    "list1 = [5, 4, 3, 2, 1] \n",
    "list2 = list1 \n",
    "print(list1, id(list1)) \n",
    "print(list2, id(list2)) \n",
    "list1 = list1 + [1, 2, 3, 4] \n",
    "# Contents of list1 are same as above  \n",
    "# program, but contents of list2 are \n",
    "# different. \n",
    "print(list1, id(list1)) \n",
    "print(list2, id(list2)) "
   ]
  },
  {
   "cell_type": "markdown",
   "metadata": {},
   "source": [
    "#### Difference between == and is operator\n",
    "The == operator compares the values of both the operands and checks for value equality. Whereas is operator checks whether both the operands refer to the same object or not."
   ]
  },
  {
   "cell_type": "code",
   "execution_count": 28,
   "metadata": {},
   "outputs": [
    {
     "name": "stdout",
     "output_type": "stream",
     "text": [
      "True\n",
      "False\n",
      "True\n",
      "4572049992\n",
      "4572526024\n",
      "4572049992\n"
     ]
    }
   ],
   "source": [
    "list1 = [] \n",
    "list2 = [] \n",
    "list3=list1 \n",
    "  \n",
    "if (list1 == list2): \n",
    "    print(\"True\") \n",
    "else: \n",
    "    print(\"False\") \n",
    "    \n",
    "if (list1 is list2): \n",
    "    print(\"True\") \n",
    "else: \n",
    "    print(\"False\") \n",
    "    \n",
    "if (list1 is list3): \n",
    "    print(\"True\") \n",
    "else:     \n",
    "    print(\"False\") \n",
    "print(id(list1)) \n",
    "print(id(list2))\n",
    "print(id(list3))"
   ]
  },
  {
   "cell_type": "code",
   "execution_count": 30,
   "metadata": {},
   "outputs": [
    {
     "name": "stdout",
     "output_type": "stream",
     "text": [
      "4573168328\n",
      "4573593352\n",
      "4573168328\n"
     ]
    }
   ],
   "source": [
    "list1 = [] \n",
    "list2 = [] \n",
    "list3=list1\n",
    "print(id(list1)) \n",
    "print(id(list2)) \n",
    "print(id(list3)) "
   ]
  },
  {
   "cell_type": "code",
   "execution_count": null,
   "metadata": {},
   "outputs": [],
   "source": []
  }
 ],
 "metadata": {
  "kernelspec": {
   "display_name": "Python 3 (ipykernel)",
   "language": "python",
   "name": "python3"
  },
  "language_info": {
   "codemirror_mode": {
    "name": "ipython",
    "version": 3
   },
   "file_extension": ".py",
   "mimetype": "text/x-python",
   "name": "python",
   "nbconvert_exporter": "python",
   "pygments_lexer": "ipython3",
   "version": "3.11.4"
  }
 },
 "nbformat": 4,
 "nbformat_minor": 4
}
