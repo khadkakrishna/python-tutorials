{
 "cells": [
  {
   "cell_type": "code",
   "execution_count": 3,
   "metadata": {},
   "outputs": [
    {
     "name": "stdout",
     "output_type": "stream",
     "text": [
      "this is file for testing.\n",
      "\n",
      "it contains some demo data.\n",
      "\n",
      "it is not relevant at all.\n"
     ]
    }
   ],
   "source": [
    "file = open('inputs/fileio1.txt', 'r') \n",
    "# This will print every line one by one in the file \n",
    "for each in file: \n",
    "    print(each) "
   ]
  },
  {
   "cell_type": "code",
   "execution_count": 5,
   "metadata": {},
   "outputs": [
    {
     "name": "stdout",
     "output_type": "stream",
     "text": [
      "this is file for testing.\n",
      "it contains some demo data.\n",
      "it is not relevant at all.\n"
     ]
    }
   ],
   "source": [
    "file = open('inputs/fileio1.txt', 'r') \n",
    "print(file.read())"
   ]
  },
  {
   "cell_type": "code",
   "execution_count": 9,
   "metadata": {},
   "outputs": [
    {
     "data": {
      "text/plain": [
       "'this is fi'"
      ]
     },
     "execution_count": 9,
     "metadata": {},
     "output_type": "execute_result"
    }
   ],
   "source": [
    "# Python code to illustrate read() mode character wise \n",
    "file = open(\"inputs/fileio1.txt\", \"r\") \n",
    "file.read(10)"
   ]
  },
  {
   "cell_type": "code",
   "execution_count": 10,
   "metadata": {},
   "outputs": [],
   "source": [
    "# Python code to create a file \n",
    "file = open('inputs/writable_file.txt','w') \n",
    "file.write(\"This is the write command\") \n",
    "file.write(\"It allows us to write in a particular file\") \n",
    "file.close()"
   ]
  },
  {
   "cell_type": "code",
   "execution_count": 11,
   "metadata": {},
   "outputs": [
    {
     "name": "stdout",
     "output_type": "stream",
     "text": [
      "This is the write commandIt allows us to write in a particular file\n"
     ]
    }
   ],
   "source": [
    "file=open(\"inputs/writable_file.txt\",'r')\n",
    "print(file.read())\n",
    "file.close()"
   ]
  },
  {
   "cell_type": "code",
   "execution_count": 12,
   "metadata": {},
   "outputs": [
    {
     "data": {
      "text/plain": [
       "'This is the write commandIt allows us to write in a particular fileThis will add this line'"
      ]
     },
     "execution_count": 12,
     "metadata": {},
     "output_type": "execute_result"
    }
   ],
   "source": [
    "file = open('inputs/writable_file.txt','a') \n",
    "file.write(\"This will add this line\") \n",
    "file.close()\n",
    "file=open('inputs/writable_file.txt','r') \n",
    "file.read()"
   ]
  },
  {
   "cell_type": "code",
   "execution_count": 13,
   "metadata": {},
   "outputs": [
    {
     "name": "stdout",
     "output_type": "stream",
     "text": [
      "this is file for testing.\n",
      "\n"
     ]
    }
   ],
   "source": [
    "f=open(\"inputs/fileio1.txt\")\n",
    "print(f.readline())"
   ]
  },
  {
   "cell_type": "code",
   "execution_count": 14,
   "metadata": {},
   "outputs": [
    {
     "name": "stdout",
     "output_type": "stream",
     "text": [
      "['this is file for testing.\\n', 'it contains some demo data.\\n', 'it is not relevant at all.']\n"
     ]
    },
    {
     "data": {
      "text/plain": [
       "list"
      ]
     },
     "execution_count": 14,
     "metadata": {},
     "output_type": "execute_result"
    }
   ],
   "source": [
    "f=open(\"inputs/fileio1.txt\")\n",
    "print(f.readlines())\n",
    "type(f.readlines())\n"
   ]
  },
  {
   "cell_type": "markdown",
   "metadata": {},
   "source": [
    "##### Tell() and seek() methods\n",
    "\n",
    "Python provides the tell() method which is used to print the byte number at which the file pointer exists.\n",
    "\n",
    "The python provides us the seek() method which enables us to modify the file pointer position externally.\n",
    "\n",
    "The seek() method accepts two parameters:\n",
    "\n",
    "offset: It refers to the new position of the file pointer within the file.\n",
    "\n",
    "from: It indicates the reference position from where the bytes are to be moved. If it is set to 0, the beginning of the file is used as the reference position. If it is set to 1, the current position of the file pointer is used as the reference position. If it is set to 2, the end of the file pointer is used as the reference position.\n",
    "\n"
   ]
  },
  {
   "cell_type": "code",
   "execution_count": 15,
   "metadata": {},
   "outputs": [
    {
     "name": "stdout",
     "output_type": "stream",
     "text": [
      "The filepointer is at byte : 0\n",
      "After reading, the filepointer is at: 80\n"
     ]
    }
   ],
   "source": [
    "fileptr = open(\"inputs/fileio1.txt\",\"r\")  \n",
    "  \n",
    "#initially the filepointer is at 0   \n",
    "print(\"The filepointer is at byte :\",fileptr.tell())  \n",
    "  \n",
    "#reading the content of the file  \n",
    "content = fileptr.read();  \n",
    "  \n",
    "#after the read operation file pointer modifies. tell() returns the location of the fileptr.   \n",
    "  \n",
    "print(\"After reading, the filepointer is at:\",fileptr.tell())  "
   ]
  },
  {
   "cell_type": "code",
   "execution_count": 16,
   "metadata": {},
   "outputs": [
    {
     "name": "stdout",
     "output_type": "stream",
     "text": [
      "The filepointer is at byte : 0\n",
      "After reading, the filepointer is at: 3\n",
      "After reading using 1 as seek, the filepointer is at: 6\n",
      "After reading using 1 as seek, the filepointer is at: 3\n",
      "After reading using 2 as seek, the filepointer is at: 77\n"
     ]
    }
   ],
   "source": [
    "#for text files just 0 and for binary 0,1,2 with -ve and +ve indexing\n",
    "fileptr = open(\"inputs/fileio1.txt\",\"rb\")  \n",
    "  \n",
    "#initially the filepointer is at 0   \n",
    "print(\"The filepointer is at byte :\",fileptr.tell())  \n",
    "  \n",
    "#changing the file pointer location to 10.  \n",
    "fileptr.seek(3)\n",
    "\n",
    "#tell() returns the location of the fileptr.   \n",
    "print(\"After reading, the filepointer is at:\",fileptr.tell()) \n",
    "\n",
    "fileptr.seek(3,1)\n",
    "print(\"After reading using 1 as seek, the filepointer is at:\",fileptr.tell())\n",
    "\n",
    "fileptr.seek(-3,1)\n",
    "print(\"After reading using 1 as seek, the filepointer is at:\",fileptr.tell())\n",
    "\n",
    "fileptr.seek(-3,2)\n",
    "print(\"After reading using 2 as seek, the filepointer is at:\",fileptr.tell()) "
   ]
  },
  {
   "cell_type": "markdown",
   "metadata": {},
   "source": [
    "##### Using with statement with files\n",
    "The with statement was introduced in python 2.5. The with statement is useful in the case of manipulating the files. The with statement is used in the scenario where a pair of statements is to be executed with a block of code in between."
   ]
  },
  {
   "cell_type": "code",
   "execution_count": 18,
   "metadata": {},
   "outputs": [],
   "source": [
    "with open(\"inputs/file.txt\", \"w\") as f:  \n",
    "    f.write(\"Hello World!!!\")\n",
    "f.close()"
   ]
  },
  {
   "cell_type": "code",
   "execution_count": 19,
   "metadata": {},
   "outputs": [
    {
     "data": {
      "text/plain": [
       "'Hello World!!!'"
      ]
     },
     "execution_count": 19,
     "metadata": {},
     "output_type": "execute_result"
    }
   ],
   "source": [
    "f=open(\"inputs/file.txt\")\n",
    "f.read()"
   ]
  },
  {
   "cell_type": "markdown",
   "metadata": {},
   "source": [
    "rstrip(): This function strips each line of a file off spaces from the right-hand side.\n",
    "\n",
    "lstrip(): This function strips each line of a file off spaces from the left-hand side."
   ]
  },
  {
   "cell_type": "code",
   "execution_count": 2,
   "metadata": {},
   "outputs": [
    {
     "ename": "NameError",
     "evalue": "name 'file' is not defined",
     "output_type": "error",
     "traceback": [
      "\u001b[0;31m---------------------------------------------------------------------------\u001b[0m",
      "\u001b[0;31mNameError\u001b[0m                                 Traceback (most recent call last)",
      "\u001b[0;32m/var/folders/5j/t70djgs95l7gn8q6j9t46l8c0000gn/T/ipykernel_4040/1537039975.py\u001b[0m in \u001b[0;36m<module>\u001b[0;34m\u001b[0m\n\u001b[1;32m      1\u001b[0m \u001b[0;31m# Python code to illustrate split() function\u001b[0m\u001b[0;34m\u001b[0m\u001b[0;34m\u001b[0m\u001b[0;34m\u001b[0m\u001b[0m\n\u001b[1;32m      2\u001b[0m \u001b[0;32mwith\u001b[0m \u001b[0mopen\u001b[0m\u001b[0;34m(\u001b[0m\u001b[0;34m\"inputs/file.txt\"\u001b[0m\u001b[0;34m,\u001b[0m \u001b[0;34m\"r\"\u001b[0m\u001b[0;34m)\u001b[0m\u001b[0;34m:\u001b[0m\u001b[0;34m\u001b[0m\u001b[0;34m\u001b[0m\u001b[0m\n\u001b[0;32m----> 3\u001b[0;31m     \u001b[0mdata\u001b[0m \u001b[0;34m=\u001b[0m \u001b[0mfile\u001b[0m\u001b[0;34m.\u001b[0m\u001b[0mreadlines\u001b[0m\u001b[0;34m(\u001b[0m\u001b[0;34m)\u001b[0m\u001b[0;34m\u001b[0m\u001b[0;34m\u001b[0m\u001b[0m\n\u001b[0m\u001b[1;32m      4\u001b[0m     \u001b[0;32mfor\u001b[0m \u001b[0mline\u001b[0m \u001b[0;32min\u001b[0m \u001b[0mdata\u001b[0m\u001b[0;34m:\u001b[0m\u001b[0;34m\u001b[0m\u001b[0;34m\u001b[0m\u001b[0m\n\u001b[1;32m      5\u001b[0m         \u001b[0mword\u001b[0m \u001b[0;34m=\u001b[0m \u001b[0mline\u001b[0m\u001b[0;34m.\u001b[0m\u001b[0msplit\u001b[0m\u001b[0;34m(\u001b[0m\u001b[0;34m)\u001b[0m\u001b[0;34m\u001b[0m\u001b[0;34m\u001b[0m\u001b[0m\n",
      "\u001b[0;31mNameError\u001b[0m: name 'file' is not defined"
     ]
    }
   ],
   "source": [
    "# Python code to illustrate split() function \n",
    "with open(\"inputs/file.txt\", \"r\") as file: \n",
    "    data = file.readlines() \n",
    "    for line in data: \n",
    "        word = line.split() \n",
    "        print(word)"
   ]
  },
  {
   "cell_type": "markdown",
   "metadata": {},
   "source": [
    "##### File Object Attributes\n",
    "file.closed :Returns true if file is closed, false otherwise.\n",
    "\n",
    "file.mode : Returns access mode with which file was opened.\n",
    "\n",
    "file.name  ; Returns name of the file.\n",
    "\n",
    "file.softspace ; Returns false if space explicitly required with print, true otherwise"
   ]
  },
  {
   "cell_type": "code",
   "execution_count": 23,
   "metadata": {},
   "outputs": [
    {
     "name": "stdout",
     "output_type": "stream",
     "text": [
      "Name of the file:  foo.txt\n",
      "Closed :  False\n",
      "Opening mode :  a+\n",
      "Encoding flag :  UTF-8\n",
      "Newlines mode :  None\n",
      "Closed :  True\n"
     ]
    }
   ],
   "source": [
    "fo = open(\"foo.txt\", \"a+\")\n",
    "print (\"Name of the file: \", fo.name)\n",
    "print (\"Closed : \", fo.closed)\n",
    "print (\"Opening mode : \", fo.mode)\n",
    "print (\"Encoding flag : \", fo.encoding)\n",
    "print (\"Newlines mode : \", fo.newlines)\n",
    "fo.close()\n",
    "print (\"Closed : \", fo.closed)"
   ]
  },
  {
   "cell_type": "code",
   "execution_count": 25,
   "metadata": {},
   "outputs": [
    {
     "data": {
      "text/plain": [
       "['this is file for testing.',\n",
       " 'it contains some demo data.',\n",
       " 'it is not relevant at all.']"
      ]
     },
     "execution_count": 25,
     "metadata": {},
     "output_type": "execute_result"
    }
   ],
   "source": [
    "#real file without newline\n",
    "file = open(\"inputs/fileio1.txt\",\"r\")  \n",
    "temp = file.read().splitlines()\n",
    "file.close()\n",
    "temp"
   ]
  },
  {
   "cell_type": "code",
   "execution_count": 1,
   "metadata": {},
   "outputs": [
    {
     "name": "stdout",
     "output_type": "stream",
     "text": [
      "this is file for testing.\n",
      "\n",
      "it contains some demo data.\n",
      "\n",
      "it is not relevant at all.\n"
     ]
    }
   ],
   "source": [
    "for line in open(\"inputs/fileio1.txt\",\"r\"):\n",
    "    print(line)\n"
   ]
  }
 ],
 "metadata": {
  "interpreter": {
   "hash": "aee8b7b246df8f9039afb4144a1f6fd8d2ca17a180786b69acc140d282b71a49"
  },
  "kernelspec": {
   "display_name": "Python 3 (ipykernel)",
   "language": "python",
   "name": "python3"
  },
  "language_info": {
   "codemirror_mode": {
    "name": "ipython",
    "version": 3
   },
   "file_extension": ".py",
   "mimetype": "text/x-python",
   "name": "python",
   "nbconvert_exporter": "python",
   "pygments_lexer": "ipython3",
   "version": "3.11.4"
  }
 },
 "nbformat": 4,
 "nbformat_minor": 4
}
